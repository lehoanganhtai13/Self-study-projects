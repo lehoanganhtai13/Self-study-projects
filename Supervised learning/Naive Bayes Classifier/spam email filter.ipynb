{
 "cells": [
  {
   "cell_type": "markdown",
   "metadata": {},
   "source": [
    "# Project: Spam Email Filtering"
   ]
  },
  {
   "cell_type": "code",
   "execution_count": 61,
   "metadata": {},
   "outputs": [],
   "source": [
    "from sklearn.naive_bayes import MultinomialNB\n",
    "from sklearn.svm import SVC\n",
    "from sklearn.feature_extraction.text import CountVectorizer\n",
    "from sklearn.model_selection import cross_val_score, StratifiedKFold, GridSearchCV\n",
    "from sklearn.metrics import accuracy_score\n",
    "import numpy as np\n",
    "import pandas as pd\n",
    "import os"
   ]
  },
  {
   "cell_type": "markdown",
   "metadata": {},
   "source": [
    "### Feature extraction"
   ]
  },
  {
   "cell_type": "code",
   "execution_count": 2,
   "metadata": {},
   "outputs": [],
   "source": [
    "def mail_dictionary(path):\n",
    "\n",
    "    def mail_aggregate(path, folder):\n",
    "        folder_path = path + '/' + folder\n",
    "        file_list = os.listdir(folder_path)\n",
    "\n",
    "        mails = []\n",
    "        for file_name in file_list:\n",
    "            file_path = folder_path + '/' + file_name\n",
    "            with open(file_path) as f:\n",
    "                mail = f.read()\n",
    "                mails.append(mail)\n",
    "\n",
    "        return mails\n",
    "    \n",
    "    nonspam_emails_train = mail_aggregate(path, 'nonspam-train')\n",
    "    nonspam_emails_test = mail_aggregate(path, 'nonspam-test')\n",
    "    spam_emails_train = mail_aggregate(path, 'spam-train')\n",
    "    spam_emails_test = mail_aggregate(path, 'spam-test')\n",
    "\n",
    "    nonspam_email = nonspam_emails_train + nonspam_emails_test\n",
    "    spam_email = spam_emails_train + spam_emails_test\n",
    "    emails = nonspam_email + spam_email\n",
    "\n",
    "    def build_dictionary(emails):\n",
    "        vectorizer = CountVectorizer()\n",
    "        term_document_vectorize = vectorizer.fit_transform(emails)\n",
    "        term_document_array = term_document_vectorize.toarray()\n",
    "\n",
    "        # Count the occurrences of each word in total\n",
    "        word_counts = term_document_array.sum(axis=0)\n",
    "\n",
    "        # Sorting list of word in descending order of the occurrences\n",
    "        sorted_indices = np.argsort(word_counts)[::-1]\n",
    "        sorted_word_counts_array = word_counts[sorted_indices]\n",
    "        \n",
    "        # Get list of words\n",
    "        feature_names = vectorizer.get_feature_names_out()\n",
    "\n",
    "        # Generate the dictionary\n",
    "        word_dict = {feature_names[sorted_indices[i]]: sorted_word_counts_array[i] for i in range(len(sorted_indices))}\n",
    "        \n",
    "        return word_dict\n",
    "    \n",
    "    word_dictionary = build_dictionary(emails)\n",
    "    most_frequency_dictionary = dict(list(word_dictionary.items())[:2500])\n",
    "\n",
    "    with open('dictionary.txt', 'w') as dict_f:\n",
    "        for key, value in most_frequency_dictionary.items():\n",
    "            dict_f.write(f'{key}: {value}\\n')\n",
    "\n",
    "        # Truncate the final abundant line in the file\n",
    "        dict_f.seek(0, os.SEEK_END)\n",
    "        dict_f.seek(dict_f.tell() - 2, os.SEEK_SET)\n",
    "        dict_f.truncate()\n",
    "\n",
    "    return most_frequency_dictionary\n",
    "\n",
    "dictionary = mail_dictionary('ex6DataEmails')"
   ]
  },
  {
   "cell_type": "code",
   "execution_count": 39,
   "metadata": {},
   "outputs": [],
   "source": [
    "def extract_features(path, dataset_folder, dictionary):\n",
    "    def find_word_index(word, dictionary):\n",
    "        for index, (key,value) in enumerate(dictionary.items()):\n",
    "            if(word == key):\n",
    "                return index\n",
    "        return -1\n",
    "\n",
    "    file_list = os.listdir(path + '/' + dataset_folder)\n",
    "    tokens_features = np.zeros((len(file_list), 2501), dtype=int)\n",
    "\n",
    "    document_index = 0\n",
    "    for file in file_list:\n",
    "        with open(path + '/' + dataset_folder + '/' + file, 'r') as f:\n",
    "            document = [f.read()]\n",
    "\n",
    "            vectorizer = CountVectorizer()\n",
    "            term_document_vectorizer = vectorizer.fit_transform(document)\n",
    "            word_features = vectorizer.get_feature_names_out()\n",
    "            word_counts = term_document_vectorizer.toarray()\n",
    "\n",
    "            # Occurrences of the non-existent word in the dictionary\n",
    "            others = 0\n",
    "\n",
    "            # Fill the occurrences of the word of the document in the corresponding postion in the feature vector\n",
    "            for i in range(word_counts.shape[1]):\n",
    "                index = find_word_index(word_features[i], dictionary)\n",
    "                if index != -1:\n",
    "                    tokens_features[document_index, index] = word_counts[0,i]\n",
    "                else:\n",
    "                    others = word_counts[0,i]\n",
    "            # Fill the total occurrences of all the non-existent words in the dictionary\n",
    "            tokens_features[document_index, -1] = others\n",
    "\n",
    "            document_index += 1\n",
    "\n",
    "    return tokens_features\n",
    "\n",
    "nonspam_train_feature = extract_features('ex6DataEmails', 'nonspam-train', dictionary)\n",
    "spam_train_feature = extract_features('ex6DataEmails', 'spam-train', dictionary)\n",
    "X_train = np.concatenate((nonspam_train_feature, spam_train_feature), axis = 0)\n",
    "y_train = np.concatenate((np.zeros(350), np.ones(350)))\n",
    "\n",
    "nonspam_test_feature = extract_features('ex6DataEmails', 'nonspam-test', dictionary)\n",
    "spam_test_feature = extract_features('ex6DataEmails', 'spam-test', dictionary)\n",
    "X_test = np.concatenate((nonspam_test_feature, spam_test_feature), axis = 0)\n",
    "y_test = np.concatenate((np.zeros(130), np.ones(130)))"
   ]
  },
  {
   "cell_type": "markdown",
   "metadata": {},
   "source": [
    "### Model selection"
   ]
  },
  {
   "cell_type": "code",
   "execution_count": 58,
   "metadata": {},
   "outputs": [
    {
     "data": {
      "text/html": [
       "<div>\n",
       "<style scoped>\n",
       "    .dataframe tbody tr th:only-of-type {\n",
       "        vertical-align: middle;\n",
       "    }\n",
       "\n",
       "    .dataframe tbody tr th {\n",
       "        vertical-align: top;\n",
       "    }\n",
       "\n",
       "    .dataframe thead th {\n",
       "        text-align: right;\n",
       "    }\n",
       "</style>\n",
       "<table border=\"1\" class=\"dataframe\">\n",
       "  <thead>\n",
       "    <tr style=\"text-align: right;\">\n",
       "      <th></th>\n",
       "      <th>Model name</th>\n",
       "      <th>Mean accuracy</th>\n",
       "      <th>Standard deviation</th>\n",
       "    </tr>\n",
       "  </thead>\n",
       "  <tbody>\n",
       "    <tr>\n",
       "      <th>0</th>\n",
       "      <td>MultinomialNB</td>\n",
       "      <td>0.982857</td>\n",
       "      <td>0.010690</td>\n",
       "    </tr>\n",
       "    <tr>\n",
       "      <th>1</th>\n",
       "      <td>SVC</td>\n",
       "      <td>0.975714</td>\n",
       "      <td>0.017261</td>\n",
       "    </tr>\n",
       "  </tbody>\n",
       "</table>\n",
       "</div>"
      ],
      "text/plain": [
       "      Model name  Mean accuracy  Standard deviation\n",
       "0  MultinomialNB       0.982857            0.010690\n",
       "1            SVC       0.975714            0.017261"
      ]
     },
     "execution_count": 58,
     "metadata": {},
     "output_type": "execute_result"
    }
   ],
   "source": [
    "seed = 0\n",
    "models = [\n",
    "    MultinomialNB(),\n",
    "    SVC(random_state=seed)\n",
    "]\n",
    "kfold = StratifiedKFold(shuffle=True, random_state=seed)\n",
    "\n",
    "data_compare = []\n",
    "for model in models:\n",
    "    model_name = model.__class__.__name__\n",
    "    score = cross_val_score(estimator=model, X=X_train, y=y_train, scoring='accuracy', cv=kfold)\n",
    "    data_compare.append((model_name, score.mean(), score.std()))\n",
    "\n",
    "df = pd.DataFrame(data=data_compare, columns=['Model name', 'Mean accuracy', 'Standard deviation'])\n",
    "df"
   ]
  },
  {
   "cell_type": "markdown",
   "metadata": {},
   "source": [
    "### Tuning hyperparameters"
   ]
  },
  {
   "cell_type": "code",
   "execution_count": 62,
   "metadata": {},
   "outputs": [
    {
     "name": "stdout",
     "output_type": "stream",
     "text": [
      "Fitting 5 folds for each of 3 candidates, totalling 15 fits\n",
      "[CV 1/5] END .........................alpha=0.1;, score=1.000 total time=   0.0s\n",
      "[CV 2/5] END .........................alpha=0.1;, score=0.993 total time=   0.0s\n",
      "[CV 3/5] END .........................alpha=0.1;, score=0.986 total time=   0.0s\n",
      "[CV 4/5] END .........................alpha=0.1;, score=0.986 total time=   0.0s\n",
      "[CV 5/5] END .........................alpha=0.1;, score=0.986 total time=   0.0s\n",
      "[CV 1/5] END ...........................alpha=1;, score=1.000 total time=   0.0s\n",
      "[CV 2/5] END ...........................alpha=1;, score=0.971 total time=   0.0s\n",
      "[CV 3/5] END ...........................alpha=1;, score=0.986 total time=   0.0s\n",
      "[CV 4/5] END ...........................alpha=1;, score=0.986 total time=   0.0s\n",
      "[CV 5/5] END ...........................alpha=1;, score=0.971 total time=   0.0s\n",
      "[CV 1/5] END ..........................alpha=10;, score=0.993 total time=   0.0s\n",
      "[CV 2/5] END ..........................alpha=10;, score=0.964 total time=   0.0s\n",
      "[CV 3/5] END ..........................alpha=10;, score=0.979 total time=   0.0s\n",
      "[CV 4/5] END ..........................alpha=10;, score=0.979 total time=   0.0s\n",
      "[CV 5/5] END ..........................alpha=10;, score=0.971 total time=   0.0s\n"
     ]
    },
    {
     "data": {
      "text/plain": [
       "{'alpha': 0.1}"
      ]
     },
     "execution_count": 62,
     "metadata": {},
     "output_type": "execute_result"
    }
   ],
   "source": [
    "NBC = MultinomialNB()\n",
    "param_dist = {\n",
    "    'alpha' : [1e-1, 1, 10]\n",
    "}\n",
    "\n",
    "tuner = GridSearchCV(estimator=NBC, param_grid=param_dist, scoring='accuracy', cv=kfold, verbose=3)\n",
    "tuner.fit(X_train, y_train)\n",
    "tuner.best_params_"
   ]
  },
  {
   "cell_type": "markdown",
   "metadata": {},
   "source": [
    "### Prediction"
   ]
  },
  {
   "cell_type": "code",
   "execution_count": 64,
   "metadata": {},
   "outputs": [
    {
     "name": "stdout",
     "output_type": "stream",
     "text": [
      "Accuracy score of tuned model: 98.46%\n",
      "Accuracy score of original model: 98.08%\n"
     ]
    }
   ],
   "source": [
    "y_pred = tuner.predict(X_test)\n",
    "print(f'Accuracy score of tuned model: {(accuracy_score(y_test, y_pred)*100):.2f}%')\n",
    "\n",
    "NBC.fit(X_train, y_train)\n",
    "y_pred = NBC.predict(X_test)\n",
    "print(f'Accuracy score of original model: {(accuracy_score(y_test, y_pred)*100):.2f}%')"
   ]
  }
 ],
 "metadata": {
  "kernelspec": {
   "display_name": "self-study",
   "language": "python",
   "name": "python3"
  },
  "language_info": {
   "codemirror_mode": {
    "name": "ipython",
    "version": 3
   },
   "file_extension": ".py",
   "mimetype": "text/x-python",
   "name": "python",
   "nbconvert_exporter": "python",
   "pygments_lexer": "ipython3",
   "version": "3.8.16"
  },
  "orig_nbformat": 4
 },
 "nbformat": 4,
 "nbformat_minor": 2
}
