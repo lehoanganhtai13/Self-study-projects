{
 "cells": [
  {
   "cell_type": "code",
   "execution_count": 1,
   "metadata": {},
   "outputs": [],
   "source": [
    "from sklearn.naive_bayes import GaussianNB, BernoulliNB, MultinomialNB\n",
    "from sklearn.datasets import load_iris\n",
    "from sklearn.model_selection import train_test_split, GridSearchCV\n",
    "from sklearn.metrics import accuracy_score"
   ]
  },
  {
   "cell_type": "code",
   "execution_count": 2,
   "metadata": {},
   "outputs": [],
   "source": [
    "Iris = load_iris()\n",
    "X = Iris.data\n",
    "y= Iris.target"
   ]
  },
  {
   "cell_type": "code",
   "execution_count": 3,
   "metadata": {},
   "outputs": [],
   "source": [
    "X_train, X_test, y_train, y_test = train_test_split(X,y,test_size=0.2,stratify=y,random_state=0)"
   ]
  },
  {
   "cell_type": "code",
   "execution_count": 19,
   "metadata": {},
   "outputs": [
    {
     "name": "stdout",
     "output_type": "stream",
     "text": [
      "Accuracy score: 96.67%\n"
     ]
    }
   ],
   "source": [
    "Gausian_model = GaussianNB().fit(X_train, y_train)\n",
    "y_pred = Gausian_model.predict(X_test)\n",
    "print(f'Accuracy score: {(accuracy_score(y_test, y_pred)*100):.2f}%')"
   ]
  },
  {
   "cell_type": "code",
   "execution_count": 21,
   "metadata": {},
   "outputs": [
    {
     "name": "stdout",
     "output_type": "stream",
     "text": [
      "Accuracy score: 33.33%\n"
     ]
    }
   ],
   "source": [
    "Bernoulli_model = BernoulliNB().fit(X_train, y_train)\n",
    "y_pred = Bernoulli_model.predict(X_test)\n",
    "print(f'Accuracy score: {(accuracy_score(y_test, y_pred)*100):.2f}%')"
   ]
  },
  {
   "cell_type": "code",
   "execution_count": 6,
   "metadata": {},
   "outputs": [
    {
     "data": {
      "text/plain": [
       "{'alpha': 10}"
      ]
     },
     "execution_count": 6,
     "metadata": {},
     "output_type": "execute_result"
    }
   ],
   "source": [
    "model = MultinomialNB()\n",
    "param_dist ={'alpha': [1e-1, 1, 10, 100]}\n",
    "tuner = GridSearchCV(estimator=model, param_grid=param_dist, scoring='accuracy')\n",
    "tuner.fit(X_train, y_train)\n",
    "tuner.best_params_"
   ]
  },
  {
   "cell_type": "code",
   "execution_count": 7,
   "metadata": {},
   "outputs": [
    {
     "name": "stdout",
     "output_type": "stream",
     "text": [
      "Accuracy score of origin model: 96.67%\n",
      "Accuracy score of tuned model: 96.67%\n"
     ]
    }
   ],
   "source": [
    "Multinomial_model = MultinomialNB().fit(X_train, y_train)\n",
    "y_pred = Multinomial_model.predict(X_test)\n",
    "print(f'Accuracy score of origin model: {(accuracy_score(y_test, y_pred)*100):.2f}%')\n",
    "\n",
    "y_pred = tuner.predict(X_test)\n",
    "print(f'Accuracy score of tuned model: {(accuracy_score(y_test, y_pred)*100):.2f}%')"
   ]
  }
 ],
 "metadata": {
  "kernelspec": {
   "display_name": "self-study",
   "language": "python",
   "name": "python3"
  },
  "language_info": {
   "codemirror_mode": {
    "name": "ipython",
    "version": 3
   },
   "file_extension": ".py",
   "mimetype": "text/x-python",
   "name": "python",
   "nbconvert_exporter": "python",
   "pygments_lexer": "ipython3",
   "version": "3.8.16"
  },
  "orig_nbformat": 4
 },
 "nbformat": 4,
 "nbformat_minor": 2
}
