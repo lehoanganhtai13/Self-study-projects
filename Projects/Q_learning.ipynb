{
 "cells": [
  {
   "cell_type": "markdown",
   "metadata": {},
   "source": [
    "# Project: AI gamer for LunarLander-v2"
   ]
  },
  {
   "cell_type": "markdown",
   "metadata": {},
   "source": [
    "### Import dependencies"
   ]
  },
  {
   "cell_type": "code",
   "execution_count": 1,
   "metadata": {},
   "outputs": [],
   "source": [
    "import gym\n",
    "import numpy as np\n",
    "import matplotlib.pyplot as plt\n",
    "from tqdm.notebook import trange\n",
    "import pickle\n",
    "import time\n",
    "import os"
   ]
  },
  {
   "cell_type": "code",
   "execution_count": 2,
   "metadata": {},
   "outputs": [],
   "source": [
    "import warnings\n",
    "warnings.filterwarnings('ignore')"
   ]
  },
  {
   "cell_type": "markdown",
   "metadata": {},
   "source": [
    "### Initialize the environment"
   ]
  },
  {
   "cell_type": "code",
   "execution_count": 157,
   "metadata": {},
   "outputs": [],
   "source": [
    "env = gym.make('MountainCar-v0')"
   ]
  },
  {
   "cell_type": "markdown",
   "metadata": {},
   "source": [
    "### Create Q-learning model"
   ]
  },
  {
   "cell_type": "code",
   "execution_count": 116,
   "metadata": {},
   "outputs": [],
   "source": [
    "class Q_learning:\n",
    "\n",
    "    def __init__(self, environment, policy='eps_greedy', max_steps=500, learning_rate=1e-3, discount_rate=0.9, epsilon_range=(0.05,0.9), decay_rate=0.0005):\n",
    "        self._environment = environment\n",
    "        self._max_steps = max_steps\n",
    "        self._learning_rate = learning_rate\n",
    "        self._discount_Rate = discount_rate\n",
    "        self._epsilon_range = epsilon_range\n",
    "        self._latest_epsilon = epsilon_range[1]\n",
    "        self._decay_rate = decay_rate\n",
    "        self._policy = policy\n",
    "        self._Q_table_segment_range = 50\n",
    "        self._Q_table = self.Initilize_Q_table()\n",
    "\n",
    "    def __params__(self):\n",
    "        print('Model parameters:')\n",
    "        print(f'Learning rate: {self._learning_rate}')\n",
    "        print(f'Discount rate: {self._discount_Rate}')\n",
    "        print(f'Min epsilon - max epsilon: {self._epsilon_range[0]} - {self._epsilon_range[1]}')\n",
    "        print(f'Decay rate: {self._decay_rate}\\n')\n",
    "\n",
    "    def Initilize_Q_table(self):\n",
    "        possible_states = self._environment.observation_space.shape[0]\n",
    "        possible_actions = self._environment.action_space.n\n",
    "        state_size = (self._Q_table_segment_range,) * possible_states\n",
    "        action_size = (possible_actions,)\n",
    "        Q_table_size = state_size + action_size\n",
    "        Q_table = np.random.randint(0, self._Q_table_segment_range, size=Q_table_size)\n",
    "        return Q_table\n",
    "\n",
    "    def get_epsilon(self, current_episode):\n",
    "        min_epsilon, max_epsilon = self._epsilon_range\n",
    "        epsilon_range = max_epsilon - min_epsilon\n",
    "        epsilon = min_epsilon + epsilon_range*np.exp(-self._decay_rate*current_episode)\n",
    "        return epsilon\n",
    "\n",
    "    # Convert environment state into Q-table values states\n",
    "    def Q_table_state_conversion(self, state, state_size):\n",
    "\n",
    "        # Initialize observation space segment range\n",
    "        observation_space_scale = np.ones(state_size, dtype=int)*(self._Q_table_segment_range - 1)\n",
    "\n",
    "        # State normalization\n",
    "        normalized_state = (state - self._environment.observation_space.low) / (self._environment.observation_space.high - self._environment.observation_space.low)\n",
    "        # Scaling state into Q-table scale range\n",
    "        scaled_state = normalized_state*observation_space_scale\n",
    "\n",
    "        # The return value is state values vector of different features, for each features the value range \n",
    "        # is scaled into integer range, which can be accessed as the corresponding indices\n",
    "        # The tuple type is to count the state values of features as the defined indices pointed to the corresponding actions\n",
    "        return tuple(np.round(scaled_state).astype(int))\n",
    "    \n",
    "    def update_Q_table(self, current_Q_value, Q_table_index, reward, next_Q_value_state):\n",
    "        # Update new Q value\n",
    "        new_Q_value = (1 - self._learning_rate)*current_Q_value + self._learning_rate*(reward + self._discount_Rate*np.max(self._Q_table[next_Q_value_state]))\n",
    "        # Update Q-table\n",
    "        self._Q_table[Q_table_index] = int(new_Q_value)\n",
    "   \n",
    "    def epsilon_greedy_policy(self, Q_table_state, epsilon):\n",
    "        prob_score = np.random.uniform(0,1)\n",
    "        if prob_score > epsilon:\n",
    "            action = np.argmax(self._Q_table[Q_table_state])\n",
    "        else:\n",
    "            action = self._environment.action_space.sample()\n",
    "        return action\n",
    "\n",
    "    def greedy_policy(self, Q_table_state):\n",
    "        return np.argmax(self._Q_table[Q_table_state])\n",
    "\n",
    "    def load_Q_table(self, filename):\n",
    "        with open(filename, 'rb') as f:\n",
    "            self._Q_table = pickle.load(f)\n",
    "\n",
    "    def train(self, epochs=200, truncated=True, early_stopping=True, verbose=True):\n",
    "        # Initialize new model\n",
    "        self._Q_table = self.Initilize_Q_table()\n",
    "\n",
    "        if not os.path.exists('./Results/'):\n",
    "            os.makedirs('./Results/')\n",
    "\n",
    "        # Reset the environment\n",
    "        reset_state = self._environment.reset()\n",
    "        state_size = reset_state[0].shape\n",
    "\n",
    "        max_reward_score = 0\n",
    "\n",
    "        exceed_limit_count = 0\n",
    "\n",
    "        show_progress = False\n",
    "\n",
    "        for epoch in trange(epochs):\n",
    "            # Get the epsilon value\n",
    "            epsilon = self.get_epsilon(epoch)\n",
    "            self._latest_epsilon = epsilon\n",
    "\n",
    "            # Reset the environment\n",
    "            current_state = self._environment.reset()[0]\n",
    "            # Get state for Q table\n",
    "            Q_value_state = self.Q_table_state_conversion(current_state, state_size)\n",
    "\n",
    "            terminate = False\n",
    "            reward_score = 0\n",
    "            \n",
    "            if truncated:\n",
    "                max_step = self._max_steps\n",
    "            else:\n",
    "                max_step = int(1e10)\n",
    "            \n",
    "            start = time.time()\n",
    "            for step in range(max_step):\n",
    "\n",
    "                # Get corresponding action for the state\n",
    "                if self._policy == 'eps_greedy':\n",
    "                    action = self.epsilon_greedy_policy(Q_value_state, epsilon)\n",
    "                elif self._policy == 'greedy':\n",
    "                    action = self.greedy_policy(Q_value_state)\n",
    "\n",
    "                # Perform action\n",
    "                new_state, reward, terminate, truncated, info = self._environment.step(action)\n",
    "\n",
    "                # Recalculate reward after steps\n",
    "                reward_score += reward\n",
    "\n",
    "                # Get new state for Q table\n",
    "                Q_value_new_state = self.Q_table_state_conversion(new_state, state_size)\n",
    "\n",
    "                # Get index of the (current state, action) in the Q-table\n",
    "                Q_table_index = Q_value_state + (action,)\n",
    "\n",
    "                # Get Q value of the (current state, action) in the Q-table\n",
    "                current_Q_value = self._Q_table[Q_table_index]\n",
    "\n",
    "                # Update Q value of the (current state, action) in the Q-table\n",
    "                self.update_Q_table(current_Q_value, Q_table_index, reward, Q_value_new_state)\n",
    "\n",
    "                if terminate:\n",
    "                    if epoch == 0:\n",
    "                        max_reward_score = reward_score\n",
    "                        print('test')\n",
    "                        \n",
    "                        # Save to the best model\n",
    "                        with open('./Results/best.pkl', 'wb') as f:\n",
    "                            pickle.dump(self._Q_table, f)\n",
    "                    else:\n",
    "                        if reward_score > max_reward_score:\n",
    "                            max_reward_score = reward_score\n",
    "\n",
    "                            # Reset the counter\n",
    "                            exceed_limit_count = 0                \n",
    "\n",
    "                            # Save to the best model\n",
    "                            with open('./Results/best.pkl', 'wb') as f:\n",
    "                                pickle.dump(self._Q_table, f)\n",
    "                        \n",
    "                    # Update the latest model\n",
    "                    with open('./Results/last.pkl', 'wb') as f:\n",
    "                        pickle.dump(self._Q_table, f)\n",
    "\n",
    "                    if verbose:\n",
    "                        avarage_time = time.time() - start\n",
    "                        seconds = int(avarage_time)\n",
    "                        ms_seconds = int((avarage_time - seconds)*1e3)\n",
    "                        print(f'Epoch {epoch}/{epochs - 1}:\\t[===================================]\\t- {seconds}s {ms_seconds}ms/{step + 1}steps\\t- reward: {reward_score:.2f}')\n",
    "                        show_progress = True\n",
    "\n",
    "                    break\n",
    "\n",
    "                Q_value_state = Q_value_new_state\n",
    "\n",
    "            # Update the latest model\n",
    "            with open('./Results/last.pkl', 'wb') as f:\n",
    "                pickle.dump(self._Q_table, f)\n",
    "\n",
    "            if verbose and not show_progress:\n",
    "                avarage_time = time.time() - start\n",
    "                seconds = int(avarage_time)\n",
    "                ms_seconds = int((avarage_time - seconds)*1e3)\n",
    "                print(f'Epoch {epoch}/{epochs - 1}:\\t[===================================]\\t- {seconds}s {ms_seconds}ms/{step + 1}steps\\t- reward: {reward_score:.2f}')\n",
    "\n",
    "            elif verbose and show_progress:\n",
    "                show_progress = False\n",
    "\n",
    "            if reward_score < max_reward_score:\n",
    "                exceed_limit_count += 1\n",
    "            if exceed_limit_count > 5 and early_stopping:\n",
    "                print('Training session is stopped due to no further improvement.')\n",
    "                break\n",
    "\n",
    "        print('Best model is save to: ./Results/best.pkl')\n",
    "\n",
    "    def test_model(self, show_progress=False):\n",
    "        if show_progress:\n",
    "            self._environment.unwrapped.render_mode = 'human'\n",
    "        else:\n",
    "            self._environment.unwrapped.render_mode = 'rgb_array'\n",
    "\n",
    "        # Resset the environment\n",
    "        current_state = self._environment.reset()[0]\n",
    "        state_size = current_state.shape\n",
    "\n",
    "        terminate = False\n",
    "        step = -1\n",
    "        while not terminate:\n",
    "            step += 1\n",
    "\n",
    "            # Get Q value of the current state\n",
    "            Q_value_state = self.Q_table_state_conversion(current_state, state_size)\n",
    "\n",
    "            # Get corresponding action from the Q table\n",
    "            if self._policy == 'eps_greedy':\n",
    "                action = self.epsilon_greedy_policy(Q_value_state, self._latest_epsilon)\n",
    "            elif self._policy == 'greedy':\n",
    "                action = self.greedy_policy(Q_value_state)\n",
    "\n",
    "            # Perform action\n",
    "            new_state, reward, terminate, truncated, info = self._environment.step(action)\n",
    "\n",
    "            # Render the action\n",
    "            if show_progress:\n",
    "                self._environment.render()\n",
    "\n",
    "            current_state = new_state\n",
    "        \n",
    "        if not show_progress:\n",
    "            result = self._environment.render()\n",
    "            plt.imshow(result)\n",
    "            plt.axis('off')\n",
    "            plt.show()\n",
    "\n",
    "        self._environment.close()\n",
    "        print(f'Reach the goal position at step {step}')"
   ]
  },
  {
   "cell_type": "code",
   "execution_count": 158,
   "metadata": {},
   "outputs": [],
   "source": [
    "# Initialize Q-learning model\n",
    "model = Q_learning(environment=env, policy='eps_greedy', max_steps=50000, learning_rate=5e-1, discount_rate=0.9, epsilon_range=(0.05,0.9), decay_rate=0.05)"
   ]
  },
  {
   "cell_type": "markdown",
   "metadata": {},
   "source": [
    "### Train model"
   ]
  },
  {
   "cell_type": "code",
   "execution_count": 201,
   "metadata": {},
   "outputs": [
    {
     "data": {
      "application/vnd.jupyter.widget-view+json": {
       "model_id": "c49e4faf44bf4ffb8bd2a3cf2b1b9f9e",
       "version_major": 2,
       "version_minor": 0
      },
      "text/plain": [
       "  0%|          | 0/20 [00:00<?, ?it/s]"
      ]
     },
     "metadata": {},
     "output_type": "display_data"
    },
    {
     "name": "stdout",
     "output_type": "stream",
     "text": [
      "test\n",
      "Epoch 0/19:\t[===================================]\t- 6s 115ms/38273steps\t- reward: -38273.00\n",
      "Epoch 1/19:\t[===================================]\t- 0s 320ms/1890steps\t- reward: -1890.00\n",
      "Epoch 2/19:\t[===================================]\t- 0s 705ms/4574steps\t- reward: -4574.00\n",
      "Epoch 3/19:\t[===================================]\t- 1s 31ms/6147steps\t- reward: -6147.00\n",
      "Epoch 4/19:\t[===================================]\t- 0s 537ms/2898steps\t- reward: -2898.00\n",
      "Epoch 5/19:\t[===================================]\t- 0s 292ms/1656steps\t- reward: -1656.00\n",
      "Epoch 6/19:\t[===================================]\t- 0s 579ms/3120steps\t- reward: -3120.00\n",
      "Epoch 7/19:\t[===================================]\t- 1s 64ms/5689steps\t- reward: -5689.00\n",
      "Epoch 8/19:\t[===================================]\t- 0s 661ms/3816steps\t- reward: -3816.00\n",
      "Epoch 9/19:\t[===================================]\t- 0s 463ms/2711steps\t- reward: -2711.00\n",
      "Epoch 10/19:\t[===================================]\t- 0s 278ms/1449steps\t- reward: -1449.00\n",
      "Epoch 11/19:\t[===================================]\t- 0s 172ms/897steps\t- reward: -897.00\n",
      "Epoch 12/19:\t[===================================]\t- 0s 221ms/1154steps\t- reward: -1154.00\n",
      "Epoch 13/19:\t[===================================]\t- 0s 283ms/1678steps\t- reward: -1678.00\n",
      "Epoch 14/19:\t[===================================]\t- 0s 383ms/2163steps\t- reward: -2163.00\n",
      "Epoch 15/19:\t[===================================]\t- 0s 478ms/2514steps\t- reward: -2514.00\n",
      "Epoch 16/19:\t[===================================]\t- 0s 410ms/2341steps\t- reward: -2341.00\n",
      "Epoch 17/19:\t[===================================]\t- 0s 902ms/4876steps\t- reward: -4876.00\n",
      "Training session is stopped due to no further improvement.\n",
      "Best model is save to: ./Results/best.pkl\n"
     ]
    }
   ],
   "source": [
    "model.train(20, truncated=True, early_stopping=True)"
   ]
  },
  {
   "cell_type": "markdown",
   "metadata": {},
   "source": [
    "### Test model"
   ]
  },
  {
   "cell_type": "code",
   "execution_count": 202,
   "metadata": {},
   "outputs": [],
   "source": [
    "model.load_Q_table('./Results/best.pkl')"
   ]
  },
  {
   "cell_type": "code",
   "execution_count": 204,
   "metadata": {},
   "outputs": [
    {
     "data": {
      "image/png": "[encoded data removed]",
      "text/plain": [
       "<Figure size 640x480 with 1 Axes>"
      ]
     },
     "metadata": {},
     "output_type": "display_data"
    },
    {
     "name": "stdout",
     "output_type": "stream",
     "text": [
      "Reach the goal position at step 1710\n"
     ]
    }
   ],
   "source": [
    "model.test_model(show_progress=False)"
   ]
  }
 ],
 "metadata": {
  "kernelspec": {
   "display_name": "self-study",
   "language": "python",
   "name": "python3"
  },
  "language_info": {
   "codemirror_mode": {
    "name": "ipython",
    "version": 3
   },
   "file_extension": ".py",
   "mimetype": "text/x-python",
   "name": "python",
   "nbconvert_exporter": "python",
   "pygments_lexer": "ipython3",
   "version": "3.8.16"
  },
  "orig_nbformat": 4
 },
 "nbformat": 4,
 "nbformat_minor": 2
}
