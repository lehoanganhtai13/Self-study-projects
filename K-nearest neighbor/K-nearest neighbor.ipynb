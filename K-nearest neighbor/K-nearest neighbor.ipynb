{
 "cells": [
  {
   "attachments": {},
   "cell_type": "markdown",
   "metadata": {},
   "source": [
    "# Iris flower classification"
   ]
  },
  {
   "cell_type": "code",
   "execution_count": 162,
   "metadata": {},
   "outputs": [],
   "source": [
    "import numpy as np\n",
    "import matplotlib.pyplot as plt\n",
    "from sklearn import neighbors, datasets\n",
    "from sklearn.metrics import accuracy_score"
   ]
  },
  {
   "cell_type": "code",
   "execution_count": 160,
   "metadata": {},
   "outputs": [
    {
     "name": "stdout",
     "output_type": "stream",
     "text": [
      "Number of classes: 3\n",
      "Number of data points: 150\n",
      "\n",
      "Samples from class 0:\n",
      " [[5.1 3.5 1.4 0.2]\n",
      " [4.9 3.  1.4 0.2]\n",
      " [4.7 3.2 1.3 0.2]\n",
      " [4.6 3.1 1.5 0.2]\n",
      " [5.  3.6 1.4 0.2]]\n",
      "\n",
      "Samples from class 1:\n",
      " [[7.  3.2 4.7 1.4]\n",
      " [6.4 3.2 4.5 1.5]\n",
      " [6.9 3.1 4.9 1.5]\n",
      " [5.5 2.3 4.  1.3]\n",
      " [6.5 2.8 4.6 1.5]]\n",
      "\n",
      "Samples from class 2:\n",
      " [[6.3 3.3 6.  2.5]\n",
      " [5.8 2.7 5.1 1.9]\n",
      " [7.1 3.  5.9 2.1]\n",
      " [6.3 2.9 5.6 1.8]\n",
      " [6.5 3.  5.8 2.2]]\n"
     ]
    }
   ],
   "source": [
    "iris_dataset = datasets.load_iris()\n",
    "iris_X = iris_dataset.data\n",
    "iris_Y = iris_dataset.target\n",
    "print('Number of classes: %d' %len(np.unique(iris_Y)))\n",
    "print('Number of data points: %d' %len(iris_Y)) \n",
    "\n",
    "X0 = iris_X[iris_Y == 0,:]\n",
    "print('\\nSamples from class 0:\\n', X0[:5,:])\n",
    "\n",
    "X1 = iris_X[iris_Y == 1,:]\n",
    "print('\\nSamples from class 1:\\n', X1[:5,:]) \n",
    "\n",
    "X2 = iris_X[iris_Y == 2,:]\n",
    "print('\\nSamples from class 2:\\n', X2[:5,:]) "
   ]
  },
  {
   "cell_type": "code",
   "execution_count": 182,
   "metadata": {},
   "outputs": [
    {
     "name": "stdout",
     "output_type": "stream",
     "text": [
      "Training size: 45 (30 %)\n",
      "Test size    : 105 (70 %)\n",
      "\n",
      "Print results for 15 test data points:\n",
      "Predicted labels:  [0 0 0 1 0 0 0 0 2 2 1 2 1 2 0]\n",
      "Ground truth    :  [0 0 0 1 0 0 0 0 2 1 1 2 1 2 0]\n",
      "Accuracy of 1-NN: 93.33 % \n",
      "\n",
      "Print results for 15 test data points:\n",
      "Predicted labels:  [0 0 0 1 0 0 0 0 2 2 1 2 1 2 0]\n",
      "Ground truth    :  [0 0 0 1 0 0 0 0 2 1 1 2 1 2 0]\n",
      "Accuracy of 5-NN: 93.33 % \n",
      "\n",
      "Print results for 15 test data points:\n",
      "Predicted labels:  [0 0 0 1 0 0 0 0 2 2 1 2 1 2 0]\n",
      "Ground truth    :  [0 0 0 1 0 0 0 0 2 1 1 2 1 2 0]\n",
      "Accuracy of 10-NN: 93.33 % \n",
      "\n",
      "\n",
      "Training size: 75 (50 %)\n",
      "Test size    : 75 (50 %)\n",
      "\n",
      "Print results for 15 test data points:\n",
      "Predicted labels:  [2 1 0 1 0 2 2 1 2 2 2 0 2 2 1]\n",
      "Ground truth    :  [2 1 0 1 0 2 2 1 2 1 2 0 2 2 1]\n",
      "Accuracy of 1-NN: 93.33 % \n",
      "\n",
      "Print results for 15 test data points:\n",
      "Predicted labels:  [2 1 0 1 0 2 2 1 2 2 2 0 2 2 1]\n",
      "Ground truth    :  [2 1 0 1 0 2 2 1 2 1 2 0 2 2 1]\n",
      "Accuracy of 5-NN: 93.33 % \n",
      "\n",
      "Print results for 15 test data points:\n",
      "Predicted labels:  [2 1 0 1 0 2 2 1 2 2 2 0 2 2 1]\n",
      "Ground truth    :  [2 1 0 1 0 2 2 1 2 1 2 0 2 2 1]\n",
      "Accuracy of 10-NN: 93.33 % \n",
      "\n",
      "\n",
      "Training size: 105 (70 %)\n",
      "Test size    : 45 (30 %)\n",
      "\n",
      "Print results for 15 test data points:\n",
      "Predicted labels:  [1 1 0 2 1 1 1 1 1 1 2 1 0 0 1]\n",
      "Ground truth    :  [1 1 0 2 1 1 1 2 1 1 2 1 0 0 2]\n",
      "Accuracy of 1-NN: 86.67 % \n",
      "\n",
      "Print results for 15 test data points:\n",
      "Predicted labels:  [1 1 0 2 1 1 1 2 1 1 2 1 0 0 2]\n",
      "Ground truth    :  [1 1 0 2 1 1 1 2 1 1 2 1 0 0 2]\n",
      "Accuracy of 5-NN: 100.00 % \n",
      "\n",
      "Print results for 15 test data points:\n",
      "Predicted labels:  [1 1 0 2 1 1 1 2 1 1 2 1 0 0 2]\n",
      "Ground truth    :  [1 1 0 2 1 1 1 2 1 1 2 1 0 0 2]\n",
      "Accuracy of 10-NN: 100.00 % \n",
      "\n",
      "\n",
      "Training size: 120 (80 %)\n",
      "Test size    : 30 (20 %)\n",
      "\n",
      "Print results for 15 test data points:\n",
      "Predicted labels:  [2 1 1 1 2 0 2 0 0 1 2 0 1 2 1]\n",
      "Ground truth    :  [2 1 1 1 2 0 2 0 0 2 2 0 1 2 1]\n",
      "Accuracy of 1-NN: 93.33 % \n",
      "\n",
      "Print results for 15 test data points:\n",
      "Predicted labels:  [2 1 1 1 2 0 2 0 0 1 2 0 1 2 1]\n",
      "Ground truth    :  [2 1 1 1 2 0 2 0 0 2 2 0 1 2 1]\n",
      "Accuracy of 5-NN: 93.33 % \n",
      "\n",
      "Print results for 15 test data points:\n",
      "Predicted labels:  [2 1 1 1 2 0 2 0 0 2 2 0 1 2 1]\n",
      "Ground truth    :  [2 1 1 1 2 0 2 0 0 2 2 0 1 2 1]\n",
      "Accuracy of 10-NN: 100.00 % \n",
      "\n",
      "\n",
      "Training size: 135 (90 %)\n",
      "Test size    : 15 (10 %)\n",
      "\n",
      "Print results for 15 test data points:\n",
      "Predicted labels:  [0 2 1 0 1 1 0 1 2 1 2 1 1 1 2]\n",
      "Ground truth    :  [0 2 2 0 1 1 0 1 2 2 2 1 1 1 2]\n",
      "Accuracy of 1-NN: 86.67 % \n",
      "\n",
      "Print results for 15 test data points:\n",
      "Predicted labels:  [0 2 1 0 1 1 0 1 2 1 2 1 1 1 2]\n",
      "Ground truth    :  [0 2 2 0 1 1 0 1 2 2 2 1 1 1 2]\n",
      "Accuracy of 5-NN: 86.67 % \n",
      "\n",
      "Print results for 15 test data points:\n",
      "Predicted labels:  [0 2 1 0 1 1 0 1 2 2 2 1 1 1 2]\n",
      "Ground truth    :  [0 2 2 0 1 1 0 1 2 2 2 1 1 1 2]\n",
      "Accuracy of 10-NN: 93.33 % \n",
      "\n",
      "\n"
     ]
    }
   ],
   "source": [
    "from sklearn.model_selection import train_test_split\n",
    "\n",
    "for training in 30, 50, 70, 80, 90:\n",
    "    X_train, X_test, Y_train, Y_test = train_test_split(iris_X, iris_Y, train_size=int(training*150/100))\n",
    "\n",
    "    print(\"Training size: %d (%d %%)\" %(len(Y_train), training))\n",
    "    print(\"Test size    : %d (%d %%)\" %(len(Y_test), 100 - training))\n",
    "    print('')\n",
    "\n",
    "    for num_NN in 1,5,10:\n",
    "        KNN_model = neighbors.KNeighborsClassifier(n_neighbors = num_NN, p = 2, weights='distance')\n",
    "        KNN_model.fit(X_train, Y_train)\n",
    "        y_pred = KNN_model.predict(X_test[0:15])\n",
    "\n",
    "        print(\"Print results for 15 test data points:\")\n",
    "        print(\"Predicted labels: \", y_pred)\n",
    "        print(\"Ground truth    : \", Y_test[0:15])\n",
    "\n",
    "        print(\"Accuracy of %d-NN: %.2f %% \\n\" %(num_NN,(100*accuracy_score(Y_test[0:15], y_pred))))\n",
    " \n",
    "    print('')"
   ]
  },
  {
   "attachments": {},
   "cell_type": "markdown",
   "metadata": {},
   "source": [
    "# Hand-writting letters recognition"
   ]
  },
  {
   "cell_type": "code",
   "execution_count": 199,
   "metadata": {},
   "outputs": [
    {
     "name": "stdout",
     "output_type": "stream",
     "text": [
      "Training size: 60000\n",
      "Testing size : 10000\n"
     ]
    }
   ],
   "source": [
    "# %reset\n",
    "import numpy as np \n",
    "from mnist import MNIST # require `pip install python-mnist`\n",
    "# https://pypi.python.org/pypi/python-mnist/\n",
    "\n",
    "import matplotlib.pyplot as plt\n",
    "from sklearn import neighbors\n",
    "from sklearn.metrics import accuracy_score\n",
    "import time\n",
    "\n",
    "# you need to download the MNIST dataset first\n",
    "# at: http://yann.lecun.com/exdb/mnist/\n",
    "mndata = MNIST('MNIST') # path to your MNIST folder \n",
    "train_data, train_label = mndata.load_training()\n",
    "test_data, test_label = mndata.load_testing()\n",
    "X_train = train_data\n",
    "X_test = test_data\n",
    "Y_train = np.asarray(train_label)\n",
    "Y_test = np.asarray(test_label)\n",
    "\n",
    "print('Training size: %d' %len(Y_train))\n",
    "print('Testing size : %d' %len(Y_test))"
   ]
  },
  {
   "cell_type": "code",
   "execution_count": 202,
   "metadata": {},
   "outputs": [
    {
     "name": "stdout",
     "output_type": "stream",
     "text": [
      "Accuracy of 1-NN for MNIST: 96.91 %\n",
      "Running time: 37.77 (s)\n",
      "\n",
      "Accuracy of 5-NN for MNIST: 96.91 %\n",
      "Running time: 40.67 (s)\n",
      "\n",
      "Accuracy of 10-NN for MNIST: 96.84 %\n",
      "Running time: 41.54 (s)\n",
      "\n"
     ]
    }
   ],
   "source": [
    "for num_NN in 1,5,10:\n",
    "    start_time = time.time()\n",
    "    KNN_model = neighbors.KNeighborsClassifier(n_neighbors = num_NN, p = 2, weights = 'distance')\n",
    "    KNN_model.fit(X_train, Y_train)\n",
    "    Y_pred = KNN_model.predict(X_test)\n",
    "    end_time = time.time()\n",
    "    print(\"Accuracy of %d-NN for MNIST: %.2f %%\" %(num_NN,(100*accuracy_score(Y_test, Y_pred))))\n",
    "    print(\"Running time: %.2f (s)\" % (end_time - start_time))\n",
    "    print('')"
   ]
  }
 ],
 "metadata": {
  "kernelspec": {
   "display_name": "self-study",
   "language": "python",
   "name": "python3"
  },
  "language_info": {
   "codemirror_mode": {
    "name": "ipython",
    "version": 3
   },
   "file_extension": ".py",
   "mimetype": "text/x-python",
   "name": "python",
   "nbconvert_exporter": "python",
   "pygments_lexer": "ipython3",
   "version": "3.8.16"
  },
  "orig_nbformat": 4
 },
 "nbformat": 4,
 "nbformat_minor": 2
}
