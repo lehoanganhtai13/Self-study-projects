{
 "cells": [
  {
   "cell_type": "code",
   "execution_count": 218,
   "metadata": {},
   "outputs": [],
   "source": [
    "import numpy as np \n",
    "import pandas as pd\n",
    "import matplotlib.pyplot as plt"
   ]
  },
  {
   "cell_type": "code",
   "execution_count": 5,
   "metadata": {},
   "outputs": [
    {
     "data": {
      "text/html": [
       "<div>\n",
       "<style scoped>\n",
       "    .dataframe tbody tr th:only-of-type {\n",
       "        vertical-align: middle;\n",
       "    }\n",
       "\n",
       "    .dataframe tbody tr th {\n",
       "        vertical-align: top;\n",
       "    }\n",
       "\n",
       "    .dataframe thead th {\n",
       "        text-align: right;\n",
       "    }\n",
       "</style>\n",
       "<table border=\"1\" class=\"dataframe\">\n",
       "  <thead>\n",
       "    <tr style=\"text-align: right;\">\n",
       "      <th></th>\n",
       "      <th>Study hours</th>\n",
       "      <th>Pass</th>\n",
       "    </tr>\n",
       "  </thead>\n",
       "  <tbody>\n",
       "    <tr>\n",
       "      <th>0</th>\n",
       "      <td>0.50</td>\n",
       "      <td>0</td>\n",
       "    </tr>\n",
       "    <tr>\n",
       "      <th>1</th>\n",
       "      <td>0.75</td>\n",
       "      <td>0</td>\n",
       "    </tr>\n",
       "    <tr>\n",
       "      <th>2</th>\n",
       "      <td>1.00</td>\n",
       "      <td>0</td>\n",
       "    </tr>\n",
       "    <tr>\n",
       "      <th>3</th>\n",
       "      <td>1.25</td>\n",
       "      <td>0</td>\n",
       "    </tr>\n",
       "    <tr>\n",
       "      <th>4</th>\n",
       "      <td>1.50</td>\n",
       "      <td>0</td>\n",
       "    </tr>\n",
       "    <tr>\n",
       "      <th>5</th>\n",
       "      <td>1.75</td>\n",
       "      <td>0</td>\n",
       "    </tr>\n",
       "    <tr>\n",
       "      <th>6</th>\n",
       "      <td>1.75</td>\n",
       "      <td>1</td>\n",
       "    </tr>\n",
       "    <tr>\n",
       "      <th>7</th>\n",
       "      <td>2.00</td>\n",
       "      <td>0</td>\n",
       "    </tr>\n",
       "    <tr>\n",
       "      <th>8</th>\n",
       "      <td>2.25</td>\n",
       "      <td>1</td>\n",
       "    </tr>\n",
       "    <tr>\n",
       "      <th>9</th>\n",
       "      <td>2.50</td>\n",
       "      <td>0</td>\n",
       "    </tr>\n",
       "    <tr>\n",
       "      <th>10</th>\n",
       "      <td>2.75</td>\n",
       "      <td>1</td>\n",
       "    </tr>\n",
       "    <tr>\n",
       "      <th>11</th>\n",
       "      <td>3.00</td>\n",
       "      <td>0</td>\n",
       "    </tr>\n",
       "    <tr>\n",
       "      <th>12</th>\n",
       "      <td>3.25</td>\n",
       "      <td>1</td>\n",
       "    </tr>\n",
       "    <tr>\n",
       "      <th>13</th>\n",
       "      <td>3.50</td>\n",
       "      <td>0</td>\n",
       "    </tr>\n",
       "    <tr>\n",
       "      <th>14</th>\n",
       "      <td>4.00</td>\n",
       "      <td>1</td>\n",
       "    </tr>\n",
       "    <tr>\n",
       "      <th>15</th>\n",
       "      <td>4.25</td>\n",
       "      <td>1</td>\n",
       "    </tr>\n",
       "    <tr>\n",
       "      <th>16</th>\n",
       "      <td>4.50</td>\n",
       "      <td>1</td>\n",
       "    </tr>\n",
       "    <tr>\n",
       "      <th>17</th>\n",
       "      <td>4.75</td>\n",
       "      <td>1</td>\n",
       "    </tr>\n",
       "    <tr>\n",
       "      <th>18</th>\n",
       "      <td>5.00</td>\n",
       "      <td>1</td>\n",
       "    </tr>\n",
       "    <tr>\n",
       "      <th>19</th>\n",
       "      <td>5.50</td>\n",
       "      <td>1</td>\n",
       "    </tr>\n",
       "  </tbody>\n",
       "</table>\n",
       "</div>"
      ],
      "text/plain": [
       "    Study hours  Pass\n",
       "0          0.50     0\n",
       "1          0.75     0\n",
       "2          1.00     0\n",
       "3          1.25     0\n",
       "4          1.50     0\n",
       "5          1.75     0\n",
       "6          1.75     1\n",
       "7          2.00     0\n",
       "8          2.25     1\n",
       "9          2.50     0\n",
       "10         2.75     1\n",
       "11         3.00     0\n",
       "12         3.25     1\n",
       "13         3.50     0\n",
       "14         4.00     1\n",
       "15         4.25     1\n",
       "16         4.50     1\n",
       "17         4.75     1\n",
       "18         5.00     1\n",
       "19         5.50     1"
      ]
     },
     "execution_count": 5,
     "metadata": {},
     "output_type": "execute_result"
    }
   ],
   "source": [
    "f = pd.read_excel('survey-data.xlsx')\n",
    "f"
   ]
  },
  {
   "cell_type": "code",
   "execution_count": 85,
   "metadata": {},
   "outputs": [],
   "source": [
    "X = np.array([f['Study hours'].values])\n",
    "X_bar = np.concatenate((np.ones((1, X.shape[1])), X), axis = 0)\n",
    "\n",
    "Y = f['Pass'].values"
   ]
  },
  {
   "cell_type": "code",
   "execution_count": 231,
   "metadata": {},
   "outputs": [],
   "source": [
    "def sigmoid(x):\n",
    "    return 1/(1 + np.exp(-x))\n",
    "\n",
    "def logistic_regression(x_bar, y, w_init, eta, activation_function, tol = 1e-4, check_w_after = 10, max_iterations = 1000):\n",
    "    w = [w_init]\n",
    "    N = x_bar.shape[1]\n",
    "    dim = x_bar.shape[0]\n",
    "    it = 0\n",
    "    while it < max_iterations:\n",
    "        # mix data \n",
    "        mix_id = np.random.permutation(N)\n",
    "        for i in mix_id:\n",
    "            xi = x_bar[:, i].reshape(dim, 1)\n",
    "            yi = y[i]\n",
    "            zi = activation_function(np.dot(w[-1].T, xi))\n",
    "            w_new = w[-1] - eta*((zi - yi)*xi)\n",
    "            it += 1\n",
    "            # stopping criteria\n",
    "            if it % check_w_after == 0:          \n",
    "                if np.linalg.norm(w_new - w[-check_w_after]) < tol: # Compare value of current value and the 1st value in the 10-member array\n",
    "                    return w\n",
    "            w.append(w_new)\n",
    "    return w, it"
   ]
  },
  {
   "cell_type": "code",
   "execution_count": 283,
   "metadata": {},
   "outputs": [
    {
     "name": "stdout",
     "output_type": "stream",
     "text": [
      "Predicted probabilites of passing for the dataset: [[0.0949723  0.12068421 0.15218658 0.19013399 0.23492163 0.2865268\n",
      "  0.2865268  0.34436563 0.40721612 0.47325746 0.54024803 0.60581509\n",
      "  0.66778151 0.72443763 0.81808232 0.85468413 0.88495726 0.90959083\n",
      "  0.9293707  0.95746206]]\n"
     ]
    }
   ],
   "source": [
    "n_features = X_bar.shape[0]\n",
    "w_init = np.random.rand(1,n_features)\n",
    "learning_rate = 0.05\n",
    "w, epochs = logistic_regression(X_bar, Y, w_init.T, learning_rate, sigmoid, 1e-6, 10)\n",
    "print('Predicted probabilites of passing for the dataset:', sigmoid(np.dot(w[-1].T, X_bar)))"
   ]
  },
  {
   "cell_type": "code",
   "execution_count": 252,
   "metadata": {},
   "outputs": [
    {
     "data": {
      "image/png": "[encoded data removed]",
      "text/plain": [
       "<Figure size 640x480 with 1 Axes>"
      ]
     },
     "metadata": {},
     "output_type": "display_data"
    }
   ],
   "source": [
    "X0 = X_bar[1, np.where(Y == 0)][0]\n",
    "Y0 = Y[np.where(Y == 0)]\n",
    "X1 = X_bar[1, np.where(Y == 1)][0]\n",
    "Y1 = Y[np.where(Y == 1)]\n",
    "\n",
    "plt.plot(X0, Y0, 'ro', markersize = 8)\n",
    "plt.plot(X1, Y1, 'bs', markersize = 8)\n",
    "\n",
    "xx = np.linspace(0, 6, 1000)\n",
    "w0 = w[-1][0][0]\n",
    "w1 = w[-1][1][0]\n",
    "threshold = -w0/w1\n",
    "yy = sigmoid(w0 + w1*xx)\n",
    "plt.axis([-2, 8, -1, 2])\n",
    "plt.plot(xx, yy, 'g-', linewidth = 2)\n",
    "plt.plot(threshold, .5, 'y^', markersize = 10)\n",
    "plt.xlabel('Studying hours')\n",
    "plt.ylabel('Predicted probability of pass')\n",
    "plt.show()"
   ]
  },
  {
   "cell_type": "code",
   "execution_count": 88,
   "metadata": {},
   "outputs": [],
   "source": [
    "from sklearn.linear_model import LogisticRegression"
   ]
  },
  {
   "cell_type": "code",
   "execution_count": 284,
   "metadata": {},
   "outputs": [
    {
     "name": "stdout",
     "output_type": "stream",
     "text": [
      "The retrieved coefficients from the sklearn library model w: [-3.14, 1.15] and accuracy score: 0.80\n",
      "The retrieved coefficients from the manually built model w: [-2.79, 1.07] and accuracy score: 0.80\n"
     ]
    }
   ],
   "source": [
    "model = LogisticRegression(tol=1e-6, random_state=0).fit(X_bar.T, Y)\n",
    "print('The retrieved coefficients from the sklearn library model w: [%.2f, %.2f] and accuracy score: %.2f' %(model.intercept_, model.coef_[:,1], model.score(X_bar.T, Y)))\n",
    "\n",
    "model.coef_[:,1], model.intercept_ = w[-1].T[0,1], w[-1].T[0,0]\n",
    "print('The retrieved coefficients from the manually built model w: [%.2f, %.2f] and accuracy score: %.2f' %(model.intercept_, model.coef_[:,1], model.score(X_bar.T, Y)))"
   ]
  }
 ],
 "metadata": {
  "kernelspec": {
   "display_name": "self-study",
   "language": "python",
   "name": "python3"
  },
  "language_info": {
   "codemirror_mode": {
    "name": "ipython",
    "version": 3
   },
   "file_extension": ".py",
   "mimetype": "text/x-python",
   "name": "python",
   "nbconvert_exporter": "python",
   "pygments_lexer": "ipython3",
   "version": "3.8.16"
  },
  "orig_nbformat": 4
 },
 "nbformat": 4,
 "nbformat_minor": 2
}
