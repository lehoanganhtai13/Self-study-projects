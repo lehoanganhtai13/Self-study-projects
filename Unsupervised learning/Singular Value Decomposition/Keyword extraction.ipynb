{
 "cells": [
  {
   "cell_type": "code",
   "execution_count": 2,
   "metadata": {},
   "outputs": [],
   "source": [
    "import numpy as np\n",
    "from numpy.linalg import svd"
   ]
  },
  {
   "cell_type": "code",
   "execution_count": 4,
   "metadata": {},
   "outputs": [
    {
     "data": {
      "text/plain": [
       "['This is the first document',\n",
       " 'This document is the second document',\n",
       " 'And this is the third one',\n",
       " 'Is this the first document?']"
      ]
     },
     "execution_count": 4,
     "metadata": {},
     "output_type": "execute_result"
    }
   ],
   "source": [
    "documents = [\n",
    "    \"This is the first document\",\n",
    "    \"This document is the second document\",\n",
    "    \"And this is the third one\",\n",
    "    \"Is this the first document?\"\n",
    "]\n",
    "documents"
   ]
  },
  {
   "cell_type": "code",
   "execution_count": 24,
   "metadata": {},
   "outputs": [
    {
     "data": {
      "text/plain": [
       "array(['and', 'document', 'first', 'is', 'one', 'second', 'the', 'third',\n",
       "       'this'], dtype=object)"
      ]
     },
     "execution_count": 24,
     "metadata": {},
     "output_type": "execute_result"
    }
   ],
   "source": [
    "from sklearn.feature_extraction.text import CountVectorizer\n",
    "\n",
    "vectorizer = CountVectorizer()\n",
    "\n",
    "'''\n",
    "Count the occurences of the word in documents\n",
    "Create the term-document matrix (each column represents a word, each row represents a document)\n",
    "'''\n",
    "term_document_matrix = vectorizer.fit_transform(documents)\n",
    "vectorizer.get_feature_names_out()"
   ]
  },
  {
   "cell_type": "code",
   "execution_count": 19,
   "metadata": {},
   "outputs": [
    {
     "data": {
      "text/plain": [
       "array([[0, 1, 1, 1, 0, 0, 1, 0, 1],\n",
       "       [0, 2, 0, 1, 0, 1, 1, 0, 1],\n",
       "       [1, 0, 0, 1, 1, 0, 1, 1, 1],\n",
       "       [0, 1, 1, 1, 0, 0, 1, 0, 1]], dtype=int64)"
      ]
     },
     "execution_count": 19,
     "metadata": {},
     "output_type": "execute_result"
    }
   ],
   "source": [
    "# Convert the term-document matrix to numpy array\n",
    "term_document_array = term_document_matrix.toarray()\n",
    "term_document_array"
   ]
  },
  {
   "cell_type": "code",
   "execution_count": 20,
   "metadata": {},
   "outputs": [],
   "source": [
    "U, S, V = svd(term_document_array)"
   ]
  },
  {
   "cell_type": "code",
   "execution_count": 50,
   "metadata": {},
   "outputs": [
    {
     "name": "stdout",
     "output_type": "stream",
     "text": [
      "[False False False False False False False False False]\n",
      "[False False False False False False False False False]\n",
      "[False False False False False False False False False]\n",
      "[False False False False False False False False False]\n",
      "[False False False False  True False False False False]\n",
      "[False False False  True False False False False False]\n",
      "[False False False False False False  True False False]\n",
      "[False False False False False False False  True False]\n",
      "[False False False False False False False False  True]\n"
     ]
    }
   ],
   "source": [
    "# Determine keywords based on the principal components (columns of matrix V)\n",
    "keyword_threshold = 0.75\n",
    "keywords = []\n",
    "\n",
    "for i, word in enumerate(vectorizer.get_feature_names_out()):\n",
    "    keyword_vector = V[i, :]\n",
    "    print(np.abs(keyword_vector) > keyword_threshold)\n",
    "    if np.any(np.abs(keyword_vector) > keyword_threshold):\n",
    "        keywords.append(word)"
   ]
  },
  {
   "cell_type": "code",
   "execution_count": 42,
   "metadata": {},
   "outputs": [
    {
     "name": "stdout",
     "output_type": "stream",
     "text": [
      "Keywords:\n",
      "['one', 'second', 'the', 'third', 'this']\n"
     ]
    }
   ],
   "source": [
    "print(\"Keywords:\")\n",
    "print(keywords)"
   ]
  }
 ],
 "metadata": {
  "kernelspec": {
   "display_name": "self-study",
   "language": "python",
   "name": "python3"
  },
  "language_info": {
   "codemirror_mode": {
    "name": "ipython",
    "version": 3
   },
   "file_extension": ".py",
   "mimetype": "text/x-python",
   "name": "python",
   "nbconvert_exporter": "python",
   "pygments_lexer": "ipython3",
   "version": "3.8.16"
  },
  "orig_nbformat": 4
 },
 "nbformat": 4,
 "nbformat_minor": 2
}
