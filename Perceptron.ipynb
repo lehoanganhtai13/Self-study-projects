{
 "cells": [
  {
   "cell_type": "code",
   "execution_count": 1,
   "metadata": {},
   "outputs": [],
   "source": [
    "import numpy as np \n",
    "import matplotlib.pyplot as plt\n",
    "from scipy.spatial.distance import cdist\n",
    "np.random.seed(22)"
   ]
  },
  {
   "cell_type": "code",
   "execution_count": 480,
   "metadata": {},
   "outputs": [],
   "source": [
    "means = [[2, 2], [4, 2]]\n",
    "cov = [[.3, .2], [.2, .3]]\n",
    "N = 45\n",
    "X0 = np.random.multivariate_normal(means[0], cov, N).T\n",
    "X1 = np.random.multivariate_normal(means[1], cov, N).T"
   ]
  },
  {
   "cell_type": "code",
   "execution_count": 481,
   "metadata": {},
   "outputs": [],
   "source": [
    "X = np.concatenate((X0, X1), axis = 1)  \n",
    "Y = np.concatenate((np.ones((1, N)), -1*np.ones((1, N))), axis = 1)\n",
    "X_bar = np.concatenate((np.ones((1, 2*N)), X), axis = 0)"
   ]
  },
  {
   "cell_type": "code",
   "execution_count": 477,
   "metadata": {},
   "outputs": [],
   "source": [
    "def perceptron(x_bar, y, w_init):\n",
    "    w = [w_init]\n",
    "    N = x_bar.shape[1]\n",
    "    dim = X_bar.shape[0]\n",
    "    mis_points = []\n",
    "    epochs = 0\n",
    "\n",
    "    while True:\n",
    "        epochs += 1\n",
    "        id = np.random.permutation(N)\n",
    "        for i in range(N):\n",
    "            xi = x_bar[:,id[i]].reshape(dim, 1)\n",
    "            yi = y[:,id[i]]\n",
    "            if np.sign(w[-1].dot(xi)) != yi:\n",
    "                mis_points.append(id[i])\n",
    "                w.append(w[-1] + yi*xi.T)\n",
    "        if np.array_equal(np.sign(w[-1].dot(x_bar)), y):\n",
    "            break\n",
    "    return w, mis_points, epochs\n"
   ]
  },
  {
   "cell_type": "code",
   "execution_count": 482,
   "metadata": {},
   "outputs": [
    {
     "data": {
      "text/plain": [
       "array([[ 3.13512809, -4.92262345,  5.49427444]])"
      ]
     },
     "execution_count": 482,
     "metadata": {},
     "output_type": "execute_result"
    }
   ],
   "source": [
    "dim = X_bar.shape[0]\n",
    "w_init = np.random.randn(1,dim)\n",
    "\n",
    "w, mis_points, epochs = perceptron(X_bar, Y, w_init)\n",
    "w[-1]"
   ]
  },
  {
   "cell_type": "code",
   "execution_count": 483,
   "metadata": {},
   "outputs": [
    {
     "name": "stderr",
     "output_type": "stream",
     "text": [
      "MovieWriter imagemagick unavailable; using Pillow instead.\n"
     ]
    },
    {
     "data": {
      "image/png": "[encoded data removed]",
      "text/plain": [
       "<Figure size 500x500 with 1 Axes>"
      ]
     },
     "metadata": {},
     "output_type": "display_data"
    }
   ],
   "source": [
    "import matplotlib.animation as animation\n",
    "from matplotlib.animation import FuncAnimation \n",
    "\n",
    "def visualization(x_bar, w, mis_points):\n",
    "    it = len(w)    \n",
    "       \n",
    "    fig, ax = plt.subplots(figsize=(5, 5))  \n",
    "\n",
    "    x0, x1 = x_bar[1:3, 0:N], x_bar[1:3, N:2*N]\n",
    "\n",
    "    def draw_line(w):\n",
    "        w0, w1, w2 = w[:,0], w[:,1], w[:,2]\n",
    "        if w2 != 0:\n",
    "            x11, x12 = -100, 100\n",
    "            return plt.plot([x11, x12], [-(w1*x11 + w0)/w2, -(w1*x12 + w0)/w2], 'k')\n",
    "        else:\n",
    "            x10 = -w0/w1\n",
    "            return plt.plot([x10, x10], [-100, 100], 'k')\n",
    "    \n",
    "    def update(i):\n",
    "        ani = plt.cla()\n",
    "        #points\n",
    "        ani = plt.plot(x0[0, :], x0[1, :], 'b^', markersize = 8, alpha = .8)\n",
    "        ani = plt.plot(x1[0, :], x1[1, :], 'ro', markersize = 8, alpha = .8)\n",
    "        ani = plt.axis([0 , 6, -2, 4])\n",
    "        i2 =  i if i < it else it-1\n",
    "        ani = draw_line(w[i2])\n",
    "        if i < it-1:\n",
    "            circle = plt.Circle((x_bar[1, mis_points[i]], x_bar[2, mis_points[i]]), 0.15, color='k', fill = False)\n",
    "            ax.add_artist(circle)\n",
    "        # hid axis \n",
    "        cur_axes = plt.gca()\n",
    "        cur_axes.axes.get_xaxis().set_ticks([])\n",
    "        cur_axes.axes.get_yaxis().set_ticks([])\n",
    "\n",
    "        label = 'PLA: iter %d/%d' %(i2, it-1)\n",
    "        ax.set_xlabel(label)\n",
    "        return ani, ax \n",
    "        \n",
    "    anim = FuncAnimation(fig, update, frames=np.arange(0, it + 3), interval=1000)\n",
    "    anim.save('PLA.gif', dpi = 100, writer = 'imagemagick')\n",
    "    plt.show()\n",
    "\n",
    "visualization(X_bar, w, mis_points)"
   ]
  },
  {
   "cell_type": "code",
   "execution_count": 166,
   "metadata": {},
   "outputs": [],
   "source": [
    "from sklearn.linear_model import Perceptron\n",
    "from sklearn.datasets import make_classification\n",
    "from sklearn.model_selection import train_test_split"
   ]
  },
  {
   "cell_type": "code",
   "execution_count": 209,
   "metadata": {},
   "outputs": [],
   "source": [
    "X_dataset, Y_dataset = make_classification(n_samples=30, n_features=2, n_informative=2, n_redundant=0, random_state=1)\n",
    "x_train, x_test, y_train, y_test = train_test_split(X_dataset, Y_dataset, stratify=Y_dataset, test_size=1/3, random_state=1)"
   ]
  },
  {
   "cell_type": "code",
   "execution_count": 497,
   "metadata": {},
   "outputs": [
    {
     "name": "stdout",
     "output_type": "stream",
     "text": [
      "Training size:  72\n",
      "Testing size:  18\n",
      "\n",
      "-- Epoch 1\n",
      "Norm: 4.62, NNZs: 3, Bias: 1.000000, T: 64, Avg. loss: 0.893566\n",
      "Total training time: 0.00 seconds.\n",
      "-- Epoch 2\n",
      "Norm: 4.62, NNZs: 3, Bias: 1.000000, T: 128, Avg. loss: 0.000000\n",
      "Total training time: 0.00 seconds.\n",
      "-- Epoch 3\n",
      "Norm: 4.62, NNZs: 3, Bias: 1.000000, T: 192, Avg. loss: 0.000000\n",
      "Total training time: 0.00 seconds.\n",
      "-- Epoch 4\n",
      "Norm: 4.62, NNZs: 3, Bias: 1.000000, T: 256, Avg. loss: 0.000000\n",
      "Total training time: 0.00 seconds.\n",
      "-- Epoch 5\n",
      "Norm: 4.62, NNZs: 3, Bias: 1.000000, T: 320, Avg. loss: 0.000000\n",
      "Total training time: 0.01 seconds.\n",
      "-- Epoch 6\n",
      "Norm: 4.62, NNZs: 3, Bias: 1.000000, T: 384, Avg. loss: 0.000000\n",
      "Total training time: 0.01 seconds.\n",
      "Convergence after 6 epochs took 0.01 seconds\n",
      "\n",
      "The retrieved coefficients from the sklearn library model: w = [1.00, -3.12, 3.26] and the accuracy score: 1.00\n",
      "The retrieved coefficients from the manually built model: w = [1.73, -3.26, 3.65] and the accuracy score: 1.00\n"
     ]
    }
   ],
   "source": [
    "x_train, x_test, y_train, y_test = train_test_split(X_bar.T, Y[0,:], stratify=Y[0,:], test_size=0.2, random_state=1)\n",
    "print('Training size: ', y_train.shape[0])\n",
    "print('Testing size: ', y_test.shape[0])\n",
    "print('')\n",
    "\n",
    "PLA_model = Perceptron(tol=1e-6, early_stopping=True, random_state=1, verbose=1).fit(x_train, y_train)\n",
    "print('')\n",
    "print('The retrieved coefficients from the sklearn library model: w = [%.2f, %.2f, %.2f] and the accuracy score: %.2f' %(PLA_model.coef_[:,0], PLA_model.coef_[:,1], PLA_model.coef_[:,2], PLA_model.score(x_test, y_test)))\n",
    "\n",
    "dim = x_train.T.shape[0]\n",
    "w_init = np.random.randn(1,dim)\n",
    "w, mis_points, epochs = perceptron(x_train.T, np.array([y_train]), w_init)\n",
    "PLA_model.coef_ = w[-1]\n",
    "print('The retrieved coefficients from the manually built model: w = [%.2f, %.2f, %.2f] and the accuracy score: %.2f' %(PLA_model.coef_[:,0], PLA_model.coef_[:,1], PLA_model.coef_[:,2], PLA_model.score(x_test, y_test)))"
   ]
  }
 ],
 "metadata": {
  "kernelspec": {
   "display_name": "self-study",
   "language": "python",
   "name": "python3"
  },
  "language_info": {
   "codemirror_mode": {
    "name": "ipython",
    "version": 3
   },
   "file_extension": ".py",
   "mimetype": "text/x-python",
   "name": "python",
   "nbconvert_exporter": "python",
   "pygments_lexer": "ipython3",
   "version": "3.8.16"
  },
  "orig_nbformat": 4
 },
 "nbformat": 4,
 "nbformat_minor": 2
}
