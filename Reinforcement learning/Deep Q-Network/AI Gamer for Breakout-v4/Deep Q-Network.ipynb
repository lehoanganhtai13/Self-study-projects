{
 "cells": [
  {
   "cell_type": "markdown",
   "metadata": {},
   "source": [
    "# Gamer AI for game BreakoutNoFrameskip-v4"
   ]
  },
  {
   "cell_type": "code",
   "execution_count": 1,
   "metadata": {},
   "outputs": [],
   "source": [
    "import warnings\n",
    "warnings.filterwarnings('ignore')"
   ]
  },
  {
   "cell_type": "markdown",
   "metadata": {},
   "source": [
    "### Checking GPU connection status"
   ]
  },
  {
   "cell_type": "code",
   "execution_count": 2,
   "metadata": {},
   "outputs": [
    {
     "name": "stdout",
     "output_type": "stream",
     "text": [
      "Thu Sep  7 12:43:44 2023       \n",
      "+-----------------------------------------------------------------------------+\n",
      "| NVIDIA-SMI 526.98       Driver Version: 526.98       CUDA Version: 12.0     |\n",
      "|-------------------------------+----------------------+----------------------+\n",
      "| GPU  Name            TCC/WDDM | Bus-Id        Disp.A | Volatile Uncorr. ECC |\n",
      "| Fan  Temp  Perf  Pwr:Usage/Cap|         Memory-Usage | GPU-Util  Compute M. |\n",
      "|                               |                      |               MIG M. |\n",
      "|===============================+======================+======================|\n",
      "|   0  NVIDIA GeForce ... WDDM  | 00000000:01:00.0  On |                  N/A |\n",
      "| N/A   56C    P8     3W /  N/A |    223MiB /  4096MiB |     11%      Default |\n",
      "|                               |                      |                  N/A |\n",
      "+-------------------------------+----------------------+----------------------+\n",
      "                                                                               \n",
      "+-----------------------------------------------------------------------------+\n",
      "| Processes:                                                                  |\n",
      "|  GPU   GI   CI        PID   Type   Process name                  GPU Memory |\n",
      "|        ID   ID                                                   Usage      |\n",
      "|=============================================================================|\n",
      "+-----------------------------------------------------------------------------+\n"
     ]
    }
   ],
   "source": [
    "gpu_info = !nvidia-smi\n",
    "gpu_info = '\\n'.join(gpu_info)\n",
    "if gpu_info.find('failed') >= 0:\n",
    "    print('Can\\'t connect to GPU.')\n",
    "else:\n",
    "    print(gpu_info)"
   ]
  },
  {
   "cell_type": "markdown",
   "metadata": {},
   "source": [
    "### Initializing environment and installing dependencies"
   ]
  },
  {
   "cell_type": "code",
   "execution_count": null,
   "metadata": {},
   "outputs": [],
   "source": [
    "!pip install stable-baselines[mpi]\n",
    "#Download and install ROMs\n",
    "!gdown -q http://www.atarimania.com/roms/Roms.rar\n",
    "!pip install -q unrar\n",
    "!mkdir ./roms_atari\n",
    "!unrar x Roms.rar ./roms_atari\n",
    "!pip install atari-py\n",
    "!python -m atari_py.import_roms ./roms_atari"
   ]
  },
  {
   "cell_type": "code",
   "execution_count": 3,
   "metadata": {},
   "outputs": [],
   "source": [
    "import os\n",
    "import gym\n",
    "from gym.wrappers import FrameStack\n",
    "from gym.wrappers.monitoring.video_recorder import VideoRecorder\n",
    "from gym.wrappers.atari_preprocessing import AtariPreprocessing\n",
    "from collections import deque\n",
    "import numpy as np\n",
    "import random\n",
    "import matplotlib.pyplot as plt\n",
    "import tensorflow as tf\n",
    "from tensorflow import keras\n",
    "from tensorflow.keras.models import Model, load_model\n",
    "from tensorflow.keras.layers import Input, Conv2D, Flatten, Dense\n",
    "from tensorflow.keras.optimizers import Adam\n",
    "from tensorflow.keras.losses import Huber"
   ]
  },
  {
   "cell_type": "code",
   "execution_count": 4,
   "metadata": {},
   "outputs": [
    {
     "name": "stdout",
     "output_type": "stream",
     "text": [
      "(210, 160, 3)\n"
     ]
    },
    {
     "data": {
      "image/png": "[encoded data removed]",
      "text/plain": [
       "<Figure size 640x480 with 1 Axes>"
      ]
     },
     "metadata": {},
     "output_type": "display_data"
    }
   ],
   "source": [
    "# Initializing environment\n",
    "env = gym.make('BreakoutNoFrameskip-v4', render_mode='rgb_array')\n",
    "obs = env.reset()\n",
    "print(obs[0].shape)\n",
    "plt.imshow(env.render())\n",
    "plt.axis('off')\n",
    "plt.show()"
   ]
  },
  {
   "cell_type": "markdown",
   "metadata": {},
   "source": [
    "### Examining preprocessed environment"
   ]
  },
  {
   "cell_type": "code",
   "execution_count": 5,
   "metadata": {},
   "outputs": [
    {
     "name": "stdout",
     "output_type": "stream",
     "text": [
      "(84, 84, 4)\n"
     ]
    },
    {
     "data": {
      "image/png": "[encoded data removed]",
      "text/plain": [
       "<Figure size 640x480 with 1 Axes>"
      ]
     },
     "metadata": {},
     "output_type": "display_data"
    }
   ],
   "source": [
    "# Convert frames to Grayscale then rescale to (84,84)\n",
    "env = AtariPreprocessing(env=env, screen_size=84, frame_skip=4, terminal_on_life_loss=True, scale_obs=True)\n",
    "# Wrapping 4 frames into 1 line for model to learn the context of the environment at the same time\n",
    "env = FrameStack(env=env, num_stack=4)\n",
    "obs = np.array(env.reset()[0])\n",
    "\n",
    "# Reshape shapre (C,H,W) to (H,W,C)\n",
    "print(obs.transpose([1, 2, 0]).shape)\n",
    "plt.title(\"Agent observation (4 frames)\")\n",
    "# Reshaping (C,H,W) to (H,C,W) then transfroming to (H, C*W)\n",
    "plt.imshow(obs.transpose([1, 0, 2]).reshape([env.observation_space.shape[1], -1]))\n",
    "plt.axis('off')\n",
    "plt.show()"
   ]
  },
  {
   "cell_type": "code",
   "execution_count": 6,
   "metadata": {},
   "outputs": [
    {
     "name": "stdout",
     "output_type": "stream",
     "text": [
      "Discrete(4)\n",
      "['NOOP', 'FIRE', 'RIGHT', 'LEFT']\n"
     ]
    }
   ],
   "source": [
    "# Actions\n",
    "print(env.action_space)\n",
    "print(env.get_action_meanings())"
   ]
  },
  {
   "cell_type": "code",
   "execution_count": 63,
   "metadata": {},
   "outputs": [
    {
     "data": {
      "text/plain": [
       "[<matplotlib.lines.Line2D at 0x12de59aaa90>]"
      ]
     },
     "execution_count": 63,
     "metadata": {},
     "output_type": "execute_result"
    },
    {
     "data": {
      "image/png": "[encoded data removed]",
      "text/plain": [
       "<Figure size 640x480 with 1 Axes>"
      ]
     },
     "metadata": {},
     "output_type": "display_data"
    }
   ],
   "source": [
    "# Rewards\n",
    "env.reset()\n",
    "rewards = []\n",
    "terminate = False\n",
    "while not terminate:\n",
    "    state, reward, terminate, truncated, info = env.step(env.action_space.sample())\n",
    "    rewards.append(reward)\n",
    "plt.plot(rewards)"
   ]
  },
  {
   "cell_type": "markdown",
   "metadata": {},
   "source": [
    "### Build DQN model"
   ]
  },
  {
   "cell_type": "code",
   "execution_count": 7,
   "metadata": {},
   "outputs": [],
   "source": [
    "class DNNModel():\n",
    "    def __init__(\n",
    "            self,\n",
    "            action_size: int = 4,\n",
    "    ) -> None:\n",
    "        self.output_shape = action_size\n",
    "\n",
    "\n",
    "    def built_model(self, default_compiler:bool=False):\n",
    "        input_layer = Input(shape=(84, 84, 4,))\n",
    "        layer1 = Conv2D(32, (8,8), strides=(4,4), activation=\"relu\")(input_layer)\n",
    "        layer2 = Conv2D(64, (4,4), strides=(2,2), activation=\"relu\")(layer1)\n",
    "        layer3 = Conv2D(64, (3,3), strides=(1,1), activation=\"relu\")(layer2)\n",
    "        layer4 = Flatten()(layer3)\n",
    "        layer5 = Dense(512, activation='relu')(layer4)\n",
    "        output_layer = Dense(self.output_shape, activation='linear')(layer5)\n",
    "        model = Model(inputs=input_layer, outputs=output_layer)\n",
    "\n",
    "        if default_compiler:\n",
    "            model.compile(optimizer=Adam(), loss=Huber())\n",
    "        return model\n",
    "\n",
    "class DQN():\n",
    "    def __init__(\n",
    "            self, \n",
    "            env: gym.Env, \n",
    "            discount_factor: float = 0.99,\n",
    "            learning_rate: float = 25e-5,\n",
    "            initial_epsilon: float = 1.0,\n",
    "            epsilon_decay: float = 2e-5,\n",
    "            epsilon_min: float = 0.01,\n",
    "            epsilon_random_frames: int = 50000\n",
    "    ) -> None:\n",
    "        self.env = env\n",
    "        self.state_space = env.observation_space.shape\n",
    "        self.action_space = env.action_space.n\n",
    "        self.discount_factor = discount_factor\n",
    "        self.learning_rate = learning_rate\n",
    "        self.epsilon = initial_epsilon\n",
    "        self.epsilon_max = initial_epsilon\n",
    "        self.epsilon_decay = epsilon_decay\n",
    "        self.epsilon_min = epsilon_min\n",
    "        self.epsilon_random_frames = epsilon_random_frames\n",
    "        self.main_model = DNNModel(self.action_space).built_model(default_compiler=True)\n",
    "        self.target_model = DNNModel(self.action_space).built_model()\n",
    "        self.max_memory_length = 100000\n",
    "        self.memory = deque(maxlen=self.max_memory_length)\n",
    "\n",
    "        self.main_model.summary()\n",
    "\n",
    "        # self.target_model.set_weights(self.main_model.get_weights())\n",
    "\n",
    "    def act(self, state, epsilon, time_steps):\n",
    "        # Apply epsilon-greedy policy for picking the corresponding action\n",
    "        if np.random.rand() < epsilon or time_steps < self.epsilon_random_frames:\n",
    "            return np.random.randint(self.action_space)\n",
    "        \n",
    "        state_tensor = tf.convert_to_tensor(state)\n",
    "        # Convert state_tensor with size (state_size,) to 1-batch state (num_batch, state_size) = (1, state_size)\n",
    "        state_tensor = tf.expand_dims(state_tensor, axis=0)\n",
    "        # Get Q values for correspoding actions predicted from model of the defined state\n",
    "        q_value = self.main_model.predict(state_tensor)\n",
    "        # Choose action with highest Q value from Q_values list with size (1, Q_values-actions_size)\n",
    "        action = tf.argmax(q_value[0]).numpy()\n",
    "\n",
    "        return action\n",
    "\n",
    "    def update_epsilon(self, time_steps) -> None:\n",
    "        self.epsilon = self.epsilon_min + (self.epsilon_max - self.epsilon_min)*np.exp(-self.epsilon_decay*time_steps)\n",
    "        \n",
    "    def store_experience(self, state, reward, action, next_state, terminate:bool):\n",
    "        self.memory.append((state, reward, action, next_state, terminate))\n",
    "\n",
    "    def clip_reward(self, reward):\n",
    "        # Bin reward to {+1, 0, -1} by its sign.\n",
    "        clipped_reward = max(min(reward, 1.0), -1.0)\n",
    "        return clipped_reward\n",
    "\n",
    "    def get_experience_sample(self, batch_size):\n",
    "        # Get sample batch from experience storage \n",
    "        experiecne_batch = random.sample(self.memory, batch_size)\n",
    "\n",
    "        state_batch = np.array([batch[0] for batch in experiecne_batch])\n",
    "        reward_batch = [batch[1] for batch in experiecne_batch]\n",
    "        action_batch = [batch[2] for batch in experiecne_batch]\n",
    "        next_state_batch = np.array([batch[3] for batch in experiecne_batch])\n",
    "        terminate_batch = [batch[4] for batch in experiecne_batch]\n",
    "\n",
    "        return state_batch, reward_batch, action_batch, next_state_batch, terminate_batch\n",
    "\n",
    "    def fit(\n",
    "            self, total_time_steps:int=100000, \n",
    "            max_time_steps:int=1000, \n",
    "            early_stopping:bool=False, \n",
    "            batch_size:int=32, \n",
    "            learning_starts:int=50000,\n",
    "            update_main_model_freq:int=20, \n",
    "            update_target_model_freq:int=5000,\n",
    "            reward_threshold:int=15,\n",
    "            num_avg_episode_score:int=5,\n",
    "            check_freq_callback:int=1000, \n",
    "            log_callback:bool=True\n",
    "    ):\n",
    "        # Setup GPU for training\n",
    "        physical_devices = tf.config.list_physical_devices('GPU')\n",
    "        if len(physical_devices) > 0:\n",
    "            tf.config.set_visible_devices(physical_devices[0], 'GPU')\n",
    "            print('GPU is available')\n",
    "        else:\n",
    "            print('GPU is not available')\n",
    "\n",
    "        if not os.path.exists('./Results/'):\n",
    "            os.makedirs('./Results/')\n",
    "\n",
    "        epsiode_count = 0\n",
    "        time_step_count = 0\n",
    "        learning_starts_count = 0\n",
    "\n",
    "        mean_running_reward = 0\n",
    "        running_reward_per_episode_list = []\n",
    "        episode_reward_limit = num_avg_episode_score\n",
    "\n",
    "        optimizer = Adam(learning_rate=self.learning_rate, clipnorm=1.0)\n",
    "        loss_function = Huber()\n",
    "\n",
    "        # Mean running reward threshold for finishing training\n",
    "        runing_reward_threshold = reward_threshold\n",
    "\n",
    "        # Train model after a defined frequency\n",
    "        update_model_frequency = update_main_model_freq\n",
    "\n",
    "        # Update target model after a defined frequency\n",
    "        update_target_model_frequency = update_target_model_freq\n",
    "\n",
    "        print('Start training session..')\n",
    "\n",
    "        while (time_step_count < total_time_steps)  or not early_stopping:\n",
    "            terminate = False\n",
    "\n",
    "            reward_episode = 0.0\n",
    "            loss = 0\n",
    "\n",
    "            # Initialize current state\n",
    "            current_state = np.array(self.env.reset()[0]).transpose([1, 2, 0])\n",
    "\n",
    "            for time_step in range(max_time_steps):\n",
    "                # Get action\n",
    "                current_action = self.act(current_state, self.epsilon, time_step_count)\n",
    "\n",
    "                # Perform action\n",
    "                next_state, reward, terminate, _, _ = self.env.step(current_action)\n",
    "                # Clip reward\n",
    "                reward = self.clip_reward(reward)\n",
    "                # Reshape next state data\n",
    "                next_state = np.array(next_state).transpose([1, 2, 0])\n",
    "                reward_episode += reward\n",
    "\n",
    "                # Store experience\n",
    "                self.store_experience(current_state, reward, current_action, next_state, terminate)\n",
    "\n",
    "                # Increment time step\n",
    "                if learning_starts_count <= learning_starts:\n",
    "                    learning_starts_count = learning_starts_count + 1\n",
    "                else: \n",
    "                    time_step_count = time_step_count + 1\n",
    "\n",
    "                # Experience replay if reach required time steps and experience batch memory\n",
    "                if time_step_count % update_model_frequency == 0 and len(self.memory) > batch_size:\n",
    "                    # Get epericence batch\n",
    "                    state_batch, reward_batch, action_batch, next_state_batch, terminate_batch = self.get_experience_sample(batch_size)\n",
    "\n",
    "                    # Get max Q value of next state\n",
    "                    next_q_value = tf.reduce_max(self.target_model.predict(next_state_batch), axis=1)\n",
    "\n",
    "                    # Get target reward (groundtruth)\n",
    "                    # target_value = reward_batch if terminate_batch else reward_batch + self.discount_factor*next_q_value\n",
    "\n",
    "                    # # Train model\n",
    "                    # with tf.GradientTape() as tape:               \n",
    "                    #     # Get all available Q values-actions of current state during feed-forward training session\n",
    "                    #     current_q_value = self.main_model(state_batch)\n",
    "                    #     # Create mask to filter only Q values of performed actions\n",
    "                    #     mask = tf.one_hot(action_batch, self.action_space)\n",
    "                    #     # Filter Q values\n",
    "                    #     current_q_value = tf.reduce_sum(tf.multiply(current_q_value, mask), axis=1)\n",
    "                    #     # Calculate loss function\n",
    "                    #     loss = loss_function(target_value, current_q_value)\n",
    "\n",
    "                    # # Backpropagation\n",
    "                    # # Calculate gradient of loss function\n",
    "                    # gradients = tape.gradient(loss, self.main_model.trainable_variables)\n",
    "                    # # Apply gradients to update parameters\n",
    "                    # optimizer.apply_gradients(zip(gradients, self.main_model.trainable_variables))\n",
    "                    \n",
    "                    current_q_value = self.main_model.predict(state_batch)\n",
    "                    for i in range(batch_size):\n",
    "                        target_value = -1 if terminate_batch[i] else reward_batch[i] + self.discount_factor*next_q_value[i]\n",
    "                        current_q_value[i][action_batch[i]] = target_value\n",
    "\n",
    "                    history = self.main_model.fit(state_batch, current_q_value, verbose=0)\n",
    "                    loss = history.history['loss'][0]\n",
    "\n",
    "                # Update target model after required time steps\n",
    "                if time_step_count % update_target_model_frequency == 0 and time_step_count != 0:\n",
    "                    self.target_model.set_weights(self.main_model.get_weights())\n",
    "                    r1, r2, r3, r4, r5 = running_reward_per_episode_list[-5], running_reward_per_episode_list[-4], running_reward_per_episode_list[-3], running_reward_per_episode_list[-2], running_reward_per_episode_list[-1]\n",
    "                    print(f'Mean running reward {mean_running_reward:.2f} - 5 latest total rewards {r1:.0f}-{r2:.0f}-{r3:.0f}-{r4:.0f}-{r5:.0f} - at episode {epsiode_count} of time step {time_step_count}\\t- epsilon: {self.epsilon:.3f}\\t- loss: {loss:e}')                   \n",
    "\n",
    "                # Remove oldest eperience if memory is exceeded\n",
    "                if len(self.memory) > self.max_memory_length:\n",
    "                    self.memory.popleft()\n",
    "\n",
    "                if terminate:\n",
    "                    break\n",
    "\n",
    "                # Update new epsilone\n",
    "                self.update_epsilon(time_step_count)\n",
    "\n",
    "                # Update current state\n",
    "                current_state = next_state\n",
    "\n",
    "                # Save callback models\n",
    "                if log_callback and time_step_count % check_freq_callback == 0 and time_step_count != 0:\n",
    "                    folder_path = './Results/'\n",
    "                    model_name = str(time_step_count) + '_model.h5'\n",
    "                    file_name = folder_path + model_name\n",
    "                    self.save_model(file_name)\n",
    "                    print(f'Model of {time_step_count} time steps is saved to ' + file_name)\n",
    "            \n",
    "            # Update mean running reward before checking stopping condition\n",
    "            if learning_starts_count > learning_starts:\n",
    "                running_reward_per_episode_list.append(reward_episode)\n",
    "            # Remove oldest reward if memory is exceeded\n",
    "            if len(running_reward_per_episode_list) > episode_reward_limit:\n",
    "                del running_reward_per_episode_list[:1]\n",
    "            if len(running_reward_per_episode_list) > 0:\n",
    "                mean_running_reward = np.mean(running_reward_per_episode_list)\n",
    "\n",
    "            if mean_running_reward > runing_reward_threshold and not early_stopping:\n",
    "                print(f'Finished training with running reward {mean_running_reward} at episode {epsiode_count}.')\n",
    "                break\n",
    "            \n",
    "            epsiode_count += 1\n",
    "\n",
    "        if early_stopping:\n",
    "            print(f'Finished training with running reward {mean_running_reward} at episode {epsiode_count}.')\n",
    "        \n",
    "        # Save model\n",
    "        self.save_model('./Results/last_model.h5')\n",
    "        print('Latest model is saved to ./Results/last_model.h5')\n",
    "\n",
    "    def save_model(self, file_path):\n",
    "        self.main_model.save(file_path)\n",
    "\n",
    "    def load_model(self, file_path):\n",
    "        self.main_model = load_model(file_path)\n",
    "\n",
    "    def test_model(self, env:gym.Env, time_steps:int=4000, record:bool=True):\n",
    "        if not os.path.exists('./Videos/') and record:\n",
    "            os.mkdir('./Videos/')\n",
    "\n",
    "        # Initialized Video recorder\n",
    "        video = VideoRecorder(env, './Videos/demo.mp4')\n",
    "        \n",
    "        total_bricks = 108\n",
    "        hits_list = []\n",
    "        rewards_list = []\n",
    "\n",
    "        epsilon_test = 0.01\n",
    "\n",
    "        current_state = np.array(env.reset()[0]).transpose([1, 2, 0])\n",
    "\n",
    "        for time_step in range(time_steps):\n",
    "            # Record frame\n",
    "            if record:\n",
    "                video.capture_frame()\n",
    "\n",
    "            # Get action\n",
    "            current_action = self.act(current_state, epsilon_test, 1000000)\n",
    "\n",
    "            # Perform action\n",
    "            next_state, reward, terminate, _, info = env.step(current_action)\n",
    "\n",
    "            # Clip reward\n",
    "            reward = int(self.clip_reward(reward))\n",
    "            rewards_list.append(reward) \n",
    "            hits_list.append(reward) \n",
    "\n",
    "            # Reshape next state data\n",
    "            current_state = np.array(next_state).transpose([1, 2, 0])\n",
    "\n",
    "            if terminate:\n",
    "                bricks_left = total_bricks - np.sum(hits_list)\n",
    "                print(f'Bricks left to be destroyed: {bricks_left}.')\n",
    "                hits_list = []\n",
    "\n",
    "                print(f'Lost 1 life at time step {time_step + 1}.')\n",
    "                print(info)\n",
    "                plt.plot(rewards_list, color=\"blue\")\n",
    "                plt.ylabel(\"Reward\",color=\"blue\",fontsize=14)\n",
    "                plt.show()\n",
    "                rewards_list = []\n",
    "\n",
    "                if info['lives'] == 0:\n",
    "                    break\n",
    "\n",
    "        if record:\n",
    "            video.close()\n",
    "\n",
    "        env.close()"
   ]
  },
  {
   "cell_type": "markdown",
   "metadata": {},
   "source": [
    "### Initialize Atari environment"
   ]
  },
  {
   "cell_type": "code",
   "execution_count": 8,
   "metadata": {},
   "outputs": [],
   "source": [
    "def Initialize_environment(game_name):\n",
    "    env = gym.make(game_name, render_mode='rgb_array')\n",
    "\n",
    "    # Convert frames to Grayscale then rescale to (84,84)\n",
    "    env = AtariPreprocessing(env=env, frame_skip=4, terminal_on_life_loss=True, scale_obs=True)\n",
    "    # Wrapping 4 frames into 1 line for model to learn the context of the environment at the same time\n",
    "    env = FrameStack(env=env, num_stack=4)\n",
    "     \n",
    "    return env"
   ]
  },
  {
   "cell_type": "markdown",
   "metadata": {},
   "source": [
    "### Train DQN model"
   ]
  },
  {
   "cell_type": "code",
   "execution_count": 9,
   "metadata": {},
   "outputs": [
    {
     "name": "stdout",
     "output_type": "stream",
     "text": [
      "Model: \"model\"\n",
      "_________________________________________________________________\n",
      " Layer (type)                Output Shape              Param #   \n",
      "=================================================================\n",
      " input_1 (InputLayer)        [(None, 84, 84, 4)]       0         \n",
      "                                                                 \n",
      " conv2d (Conv2D)             (None, 20, 20, 32)        8224      \n",
      "                                                                 \n",
      " conv2d_1 (Conv2D)           (None, 9, 9, 64)          32832     \n",
      "                                                                 \n",
      " conv2d_2 (Conv2D)           (None, 7, 7, 64)          36928     \n",
      "                                                                 \n",
      " flatten (Flatten)           (None, 3136)              0         \n",
      "                                                                 \n",
      " dense (Dense)               (None, 512)               1606144   \n",
      "                                                                 \n",
      " dense_1 (Dense)             (None, 4)                 2052      \n",
      "                                                                 \n",
      "=================================================================\n",
      "Total params: 1,686,180\n",
      "Trainable params: 1,686,180\n",
      "Non-trainable params: 0\n",
      "_________________________________________________________________\n",
      "GPU is available\n",
      "Start training session..\n",
      "Mean running reward 0.31 - 5 latest total rewards 0-0-0-1-0 - at episode 379 of time step 10000\t- epsilon: 0.990\t- loss: 7.913591e-04\n",
      "Model of 10000 time steps is saved to ./Results/10000_model.h5\n",
      "Mean running reward 0.31 - 5 latest total rewards 1-0-0-0-0 - at episode 647 of time step 20000\t- epsilon: 0.980\t- loss: 1.070000e-03\n",
      "Model of 20000 time steps is saved to ./Results/20000_model.h5\n",
      "Mean running reward 0.19 - 5 latest total rewards 0-1-0-1-0 - at episode 911 of time step 30000\t- epsilon: 0.971\t- loss: 1.904507e-04\n",
      "Model of 30000 time steps is saved to ./Results/30000_model.h5\n",
      "Mean running reward 0.27 - 5 latest total rewards 0-0-0-2-0 - at episode 1169 of time step 40000\t- epsilon: 0.961\t- loss: 2.045766e-03\n",
      "Model of 40000 time steps is saved to ./Results/40000_model.h5\n",
      "Mean running reward 0.26 - 5 latest total rewards 0-0-1-0-0 - at episode 1426 of time step 50000\t- epsilon: 0.952\t- loss: 1.720315e-04\n",
      "Model of 50000 time steps is saved to ./Results/50000_model.h5\n",
      "Mean running reward 0.28 - 5 latest total rewards 0-0-0-0-0 - at episode 1690 of time step 60000\t- epsilon: 0.942\t- loss: 2.223330e-03\n",
      "Model of 60000 time steps is saved to ./Results/60000_model.h5\n",
      "Mean running reward 0.20 - 5 latest total rewards 0-0-0-0-0 - at episode 1959 of time step 70000\t- epsilon: 0.933\t- loss: 6.785071e-04\n",
      "Model of 70000 time steps is saved to ./Results/70000_model.h5\n",
      "Mean running reward 0.33 - 5 latest total rewards 0-0-1-0-0 - at episode 2215 of time step 80000\t- epsilon: 0.924\t- loss: 3.093480e-04\n",
      "Mean running reward 0.37 - 5 latest total rewards 0-0-0-0-1 - at episode 2480 of time step 90000\t- epsilon: 0.915\t- loss: 5.490347e-03\n",
      "Model of 90000 time steps is saved to ./Results/90000_model.h5\n",
      "Mean running reward 0.26 - 5 latest total rewards 0-1-0-0-0 - at episode 2748 of time step 100000\t- epsilon: 0.906\t- loss: 9.336661e-04\n",
      "Model of 100000 time steps is saved to ./Results/100000_model.h5\n",
      "Mean running reward 0.31 - 5 latest total rewards 0-0-0-2-1 - at episode 3005 of time step 110000\t- epsilon: 0.897\t- loss: 1.512137e-03\n",
      "Model of 110000 time steps is saved to ./Results/110000_model.h5\n",
      "Mean running reward 0.40 - 5 latest total rewards 0-0-0-0-0 - at episode 3249 of time step 120000\t- epsilon: 0.888\t- loss: 3.614729e-04\n",
      "Model of 120000 time steps is saved to ./Results/120000_model.h5\n",
      "Mean running reward 0.25 - 5 latest total rewards 0-0-0-0-0 - at episode 3514 of time step 130000\t- epsilon: 0.879\t- loss: 6.803387e-04\n",
      "Model of 130000 time steps is saved to ./Results/130000_model.h5\n",
      "Mean running reward 0.20 - 5 latest total rewards 0-0-0-0-0 - at episode 3775 of time step 140000\t- epsilon: 0.871\t- loss: 2.049406e-04\n",
      "Model of 140000 time steps is saved to ./Results/140000_model.h5\n",
      "Mean running reward 0.29 - 5 latest total rewards 0-0-1-0-0 - at episode 4029 of time step 150000\t- epsilon: 0.862\t- loss: 1.027759e-03\n",
      "Mean running reward 0.25 - 5 latest total rewards 0-0-0-1-0 - at episode 4278 of time step 160000\t- epsilon: 0.854\t- loss: 3.521159e-04\n",
      "Model of 160000 time steps is saved to ./Results/160000_model.h5\n",
      "Mean running reward 0.26 - 5 latest total rewards 0-2-1-0-0 - at episode 4523 of time step 170000\t- epsilon: 0.845\t- loss: 2.775121e-03\n",
      "Model of 170000 time steps is saved to ./Results/170000_model.h5\n",
      "Mean running reward 0.36 - 5 latest total rewards 3-0-0-0-0 - at episode 4762 of time step 180000\t- epsilon: 0.837\t- loss: 2.662012e-03\n",
      "Model of 180000 time steps is saved to ./Results/180000_model.h5\n",
      "Mean running reward 0.34 - 5 latest total rewards 1-1-0-0-0 - at episode 5000 of time step 190000\t- epsilon: 0.829\t- loss: 3.551965e-04\n",
      "Model of 190000 time steps is saved to ./Results/190000_model.h5\n",
      "Mean running reward 0.44 - 5 latest total rewards 1-0-0-1-1 - at episode 5236 of time step 200000\t- epsilon: 0.821\t- loss: 2.056668e-03\n",
      "Model of 200000 time steps is saved to ./Results/200000_model.h5\n",
      "Mean running reward 0.46 - 5 latest total rewards 1-0-0-1-0 - at episode 5465 of time step 210000\t- epsilon: 0.812\t- loss: 1.181751e-03\n",
      "Mean running reward 0.45 - 5 latest total rewards 1-1-0-0-1 - at episode 5691 of time step 220000\t- epsilon: 0.804\t- loss: 4.124679e-04\n",
      "Model of 220000 time steps is saved to ./Results/220000_model.h5\n",
      "Mean running reward 0.29 - 5 latest total rewards 2-1-0-0-0 - at episode 5919 of time step 230000\t- epsilon: 0.797\t- loss: 8.499303e-04\n",
      "Model of 230000 time steps is saved to ./Results/230000_model.h5\n",
      "Mean running reward 0.39 - 5 latest total rewards 1-0-0-0-0 - at episode 6143 of time step 240000\t- epsilon: 0.789\t- loss: 6.903368e-04\n",
      "Model of 240000 time steps is saved to ./Results/240000_model.h5\n",
      "Mean running reward 0.47 - 5 latest total rewards 0-1-0-0-1 - at episode 6356 of time step 250000\t- epsilon: 0.781\t- loss: 3.951564e-03\n",
      "Model of 250000 time steps is saved to ./Results/250000_model.h5\n",
      "Mean running reward 0.48 - 5 latest total rewards 1-0-1-0-0 - at episode 6561 of time step 260000\t- epsilon: 0.773\t- loss: 5.663887e-03\n",
      "Model of 260000 time steps is saved to ./Results/260000_model.h5\n",
      "Mean running reward 0.65 - 5 latest total rewards 2-0-0-1-0 - at episode 6756 of time step 270000\t- epsilon: 0.766\t- loss: 6.992866e-03\n",
      "Model of 270000 time steps is saved to ./Results/270000_model.h5\n",
      "Mean running reward 0.72 - 5 latest total rewards 2-1-0-0-1 - at episode 6941 of time step 280000\t- epsilon: 0.758\t- loss: 1.037590e-03\n",
      "Model of 280000 time steps is saved to ./Results/280000_model.h5\n",
      "Mean running reward 0.80 - 5 latest total rewards 0-0-1-1-1 - at episode 7120 of time step 290000\t- epsilon: 0.751\t- loss: 1.800301e-03\n",
      "Model of 290000 time steps is saved to ./Results/290000_model.h5\n",
      "Mean running reward 0.58 - 5 latest total rewards 0-0-0-0-0 - at episode 7301 of time step 300000\t- epsilon: 0.743\t- loss: 1.069002e-03\n",
      "Mean running reward 0.59 - 5 latest total rewards 2-1-0-1-2 - at episode 7495 of time step 310000\t- epsilon: 0.736\t- loss: 3.424568e-03\n",
      "Model of 310000 time steps is saved to ./Results/310000_model.h5\n",
      "Mean running reward 0.67 - 5 latest total rewards 0-0-2-2-2 - at episode 7685 of time step 320000\t- epsilon: 0.729\t- loss: 9.826533e-03\n",
      "Model of 320000 time steps is saved to ./Results/320000_model.h5\n",
      "Mean running reward 0.75 - 5 latest total rewards 2-0-0-2-1 - at episode 7862 of time step 330000\t- epsilon: 0.722\t- loss: 1.349046e-02\n",
      "Model of 330000 time steps is saved to ./Results/330000_model.h5\n",
      "Mean running reward 0.70 - 5 latest total rewards 0-0-1-0-0 - at episode 8056 of time step 340000\t- epsilon: 0.715\t- loss: 1.654393e-03\n",
      "Model of 340000 time steps is saved to ./Results/340000_model.h5\n",
      "Mean running reward 0.81 - 5 latest total rewards 1-1-0-1-1 - at episode 8245 of time step 350000\t- epsilon: 0.708\t- loss: 3.074828e-03\n",
      "Model of 350000 time steps is saved to ./Results/350000_model.h5\n",
      "Mean running reward 0.68 - 5 latest total rewards 1-1-2-0-1 - at episode 8431 of time step 360000\t- epsilon: 0.701\t- loss: 5.561315e-03\n",
      "Model of 360000 time steps is saved to ./Results/360000_model.h5\n",
      "Mean running reward 0.86 - 5 latest total rewards 1-0-2-0-0 - at episode 8598 of time step 370000\t- epsilon: 0.694\t- loss: 1.023667e-02\n",
      "Model of 370000 time steps is saved to ./Results/370000_model.h5\n",
      "Mean running reward 0.69 - 5 latest total rewards 2-0-1-0-0 - at episode 8764 of time step 380000\t- epsilon: 0.687\t- loss: 4.939910e-03\n",
      "Model of 380000 time steps is saved to ./Results/380000_model.h5\n",
      "Mean running reward 0.53 - 5 latest total rewards 0-0-0-0-0 - at episode 8956 of time step 390000\t- epsilon: 0.680\t- loss: 1.913239e-03\n",
      "Model of 390000 time steps is saved to ./Results/390000_model.h5\n",
      "Mean running reward 0.75 - 5 latest total rewards 5-0-0-0-3 - at episode 9128 of time step 400000\t- epsilon: 0.674\t- loss: 1.771373e-03\n",
      "Model of 400000 time steps is saved to ./Results/400000_model.h5\n",
      "Mean running reward 0.69 - 5 latest total rewards 0-0-2-4-0 - at episode 9310 of time step 410000\t- epsilon: 0.667\t- loss: 3.051435e-03\n",
      "Model of 410000 time steps is saved to ./Results/410000_model.h5\n",
      "Mean running reward 0.56 - 5 latest total rewards 0-0-0-1-0 - at episode 9504 of time step 420000\t- epsilon: 0.660\t- loss: 1.549591e-03\n",
      "Model of 420000 time steps is saved to ./Results/420000_model.h5\n",
      "Mean running reward 0.53 - 5 latest total rewards 0-0-0-1-0 - at episode 9714 of time step 430000\t- epsilon: 0.654\t- loss: 2.925465e-03\n",
      "Model of 430000 time steps is saved to ./Results/430000_model.h5\n",
      "Mean running reward 0.37 - 5 latest total rewards 0-0-0-0-0 - at episode 9939 of time step 440000\t- epsilon: 0.648\t- loss: 1.155017e-02\n",
      "Model of 440000 time steps is saved to ./Results/440000_model.h5\n",
      "Mean running reward 0.33 - 5 latest total rewards 0-0-0-0-0 - at episode 10195 of time step 450000\t- epsilon: 0.641\t- loss: 1.803442e-03\n",
      "Model of 450000 time steps is saved to ./Results/450000_model.h5\n",
      "Mean running reward 0.41 - 5 latest total rewards 0-0-0-0-0 - at episode 10432 of time step 460000\t- epsilon: 0.635\t- loss: 1.869638e-03\n",
      "Model of 460000 time steps is saved to ./Results/460000_model.h5\n",
      "Mean running reward 0.30 - 5 latest total rewards 0-0-0-0-0 - at episode 10696 of time step 470000\t- epsilon: 0.629\t- loss: 3.348519e-03\n",
      "Model of 470000 time steps is saved to ./Results/470000_model.h5\n",
      "Mean running reward 0.18 - 5 latest total rewards 0-0-0-0-1 - at episode 10937 of time step 480000\t- epsilon: 0.623\t- loss: 6.333073e-03\n",
      "Model of 480000 time steps is saved to ./Results/480000_model.h5\n",
      "Mean running reward 0.43 - 5 latest total rewards 0-0-0-2-0 - at episode 11179 of time step 490000\t- epsilon: 0.617\t- loss: 2.185514e-02\n",
      "Model of 490000 time steps is saved to ./Results/490000_model.h5\n",
      "Mean running reward 0.18 - 5 latest total rewards 0-0-0-0-0 - at episode 11443 of time step 500000\t- epsilon: 0.610\t- loss: 1.058458e-02\n",
      "Model of 500000 time steps is saved to ./Results/500000_model.h5\n",
      "Mean running reward 0.45 - 5 latest total rewards 0-1-0-2-0 - at episode 11662 of time step 510000\t- epsilon: 0.604\t- loss: 1.252606e-02\n",
      "Model of 510000 time steps is saved to ./Results/510000_model.h5\n",
      "Mean running reward 0.22 - 5 latest total rewards 0-0-0-0-0 - at episode 11926 of time step 520000\t- epsilon: 0.599\t- loss: 4.606381e-03\n",
      "Model of 520000 time steps is saved to ./Results/520000_model.h5\n",
      "Mean running reward 0.23 - 5 latest total rewards 0-0-0-0-0 - at episode 12180 of time step 530000\t- epsilon: 0.593\t- loss: 4.321007e-03\n",
      "Model of 530000 time steps is saved to ./Results/530000_model.h5\n",
      "Mean running reward 0.29 - 5 latest total rewards 2-0-0-0-0 - at episode 12436 of time step 540000\t- epsilon: 0.587\t- loss: 2.906692e-02\n",
      "Model of 540000 time steps is saved to ./Results/540000_model.h5\n"
     ]
    }
   ],
   "source": [
    "# Initialize new environment\n",
    "env = Initialize_environment('BreakoutNoFrameskip-v4')\n",
    "# Initialize DQN model\n",
    "model = DQN(env=env, epsilon_decay=1e-6, learning_rate=0.00025, discount_factor=0.99)\n",
    "# Train model\n",
    "model.fit(total_time_steps=4000000, max_time_steps=10000, learning_starts=5000, batch_size=32, update_main_model_freq=4, update_target_model_freq=10000, num_avg_episode_score=100, check_freq_callback=10000, early_stopping=True)"
   ]
  },
  {
   "cell_type": "markdown",
   "metadata": {},
   "source": [
    "### Test model"
   ]
  },
  {
   "cell_type": "code",
   "execution_count": 11,
   "metadata": {},
   "outputs": [
    {
     "name": "stdout",
     "output_type": "stream",
     "text": [
      "Bricks left to be destroyed: 105.\n",
      "Lost 1 life at time step 175.\n",
      "{'lives': 4, 'episode_frame_number': 705, 'frame_number': 2554}\n"
     ]
    },
    {
     "data": {
      "image/png": "[encoded data removed]",
      "text/plain": [
       "<Figure size 640x480 with 1 Axes>"
      ]
     },
     "metadata": {},
     "output_type": "display_data"
    },
    {
     "name": "stdout",
     "output_type": "stream",
     "text": [
      "Bricks left to be destroyed: 102.\n",
      "Lost 1 life at time step 418.\n",
      "{'lives': 3, 'episode_frame_number': 1677, 'frame_number': 3526}\n"
     ]
    },
    {
     "data": {
      "image/png": "[encoded data removed]",
      "text/plain": [
       "<Figure size 640x480 with 1 Axes>"
      ]
     },
     "metadata": {},
     "output_type": "display_data"
    },
    {
     "name": "stdout",
     "output_type": "stream",
     "text": [
      "Bricks left to be destroyed: 107.\n",
      "Lost 1 life at time step 471.\n",
      "{'lives': 2, 'episode_frame_number': 1888, 'frame_number': 3737}\n"
     ]
    },
    {
     "data": {
      "image/png": "[encoded data removed]",
      "text/plain": [
       "<Figure size 640x480 with 1 Axes>"
      ]
     },
     "metadata": {},
     "output_type": "display_data"
    },
    {
     "name": "stdout",
     "output_type": "stream",
     "text": [
      "Bricks left to be destroyed: 107.\n",
      "Lost 1 life at time step 524.\n",
      "{'lives': 1, 'episode_frame_number': 2099, 'frame_number': 3948}\n"
     ]
    },
    {
     "data": {
      "image/png": "[encoded data removed]",
      "text/plain": [
       "<Figure size 640x480 with 1 Axes>"
      ]
     },
     "metadata": {},
     "output_type": "display_data"
    },
    {
     "name": "stdout",
     "output_type": "stream",
     "text": [
      "Bricks left to be destroyed: 107.\n",
      "Lost 1 life at time step 595.\n",
      "{'lives': 0, 'episode_frame_number': 2382, 'frame_number': 4231}\n"
     ]
    },
    {
     "data": {
      "image/png": "[encoded data removed]",
      "text/plain": [
       "<Figure size 640x480 with 1 Axes>"
      ]
     },
     "metadata": {},
     "output_type": "display_data"
    },
    {
     "name": "stdout",
     "output_type": "stream",
     "text": [
      "Moviepy - Building video ./Videos/demo.mp4.\n",
      "Moviepy - Writing video ./Videos/demo.mp4\n",
      "\n"
     ]
    },
    {
     "name": "stderr",
     "output_type": "stream",
     "text": [
      "                                                               "
     ]
    },
    {
     "name": "stdout",
     "output_type": "stream",
     "text": [
      "Moviepy - Done !\n",
      "Moviepy - video ready ./Videos/demo.mp4\n"
     ]
    },
    {
     "name": "stderr",
     "output_type": "stream",
     "text": [
      "\r"
     ]
    }
   ],
   "source": [
    "# Initialize new environment\n",
    "env = Initialize_environment('BreakoutNoFrameskip-v4')\n",
    "# Initialize model\n",
    "inference_model = DQN(env=env)\n",
    "# Load model\n",
    "inference_model.load_model('./Results/370000_model.h5')\n",
    "# Test model\n",
    "inference_model.test_model(env=env, record=True)"
   ]
  }
 ],
 "metadata": {
  "kernelspec": {
   "display_name": "self-study",
   "language": "python",
   "name": "python3"
  },
  "language_info": {
   "codemirror_mode": {
    "name": "ipython",
    "version": 3
   },
   "file_extension": ".py",
   "mimetype": "text/x-python",
   "name": "python",
   "nbconvert_exporter": "python",
   "pygments_lexer": "ipython3",
   "version": "3.8.16"
  },
  "orig_nbformat": 4
 },
 "nbformat": 4,
 "nbformat_minor": 2
}
